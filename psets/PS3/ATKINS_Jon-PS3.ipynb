{
 "cells": [
  {
   "cell_type": "markdown",
   "metadata": {},
   "source": [
    "# Problem Set 3\n",
    "\n",
    "### Before You Start\n",
    "\n",
    "This problem set is fun but challenging. It's going to involve a good amount of debugging and head-scratching, so try to start sooner rather than later!\n",
    "\n",
    "This problem set has three parts:\n",
    "\n",
    "- **Part I**: Experimental Setup\n",
    "- **Part II**: Nearest Neighbor and Cross-Validation\n",
    "- **Part III**: Overfitting in Model Selection and Nested Cross Validation\n",
    "\n",
    "For part I and II we'll consider a regression problem. You should *not* be using any built-in ML libraries for nearest neighbors, distance metrics, or cross-validation -- your mission is to write those algorithms in Python! For these two first parts we will be working with a modified version of the California Housing Dataset that you can download from bcourses (`cal_housing_data_clean.csv`). Part I will be relatively easy; Part II will take more time.\n",
    "\n",
    "For part III we'll consider a classification problem. You'll be able to use Python ML built-in libraries (in particular scikit-learn). We'll not be using the California Housing Dataset but rather synthetic data that you'll generate yourself. \n",
    "\n",
    "Make sure the following libraries load correctly before starting (hit Ctrl-Enter)."
   ]
  },
  {
   "cell_type": "code",
   "execution_count": 12,
   "metadata": {
    "jupyter": {
     "outputs_hidden": true
    }
   },
   "outputs": [],
   "source": [
    "import IPython\n",
    "import numpy as np\n",
    "import scipy as sp\n",
    "import pandas as pd\n",
    "import matplotlib\n",
    "import sklearn\n",
    "import time"
   ]
  },
  {
   "cell_type": "code",
   "execution_count": 13,
   "metadata": {
    "jupyter": {
     "outputs_hidden": true
    }
   },
   "outputs": [],
   "source": [
    "%matplotlib inline  \n",
    "import matplotlib.pyplot as plt"
   ]
  },
  {
   "cell_type": "markdown",
   "metadata": {},
   "source": [
    "---\n",
    "\n",
    "## Introduction to the assignment\n",
    "\n",
    "For this assignment, you will be using a version of the [California Housing Prices Dataset](https://scikit-learn.org/stable/datasets/real_world.html#california-housing-dataset) with additional information. Use the following commands to load the information in the csv file provided with the assignment in bcourses (`cal_housing_data_clean.csv`). Take some time to explore the data. "
   ]
  },
  {
   "cell_type": "code",
   "execution_count": 14,
   "metadata": {
    "jupyter": {
     "outputs_hidden": true
    }
   },
   "outputs": [],
   "source": [
    "# load Cal data set\n",
    "cal_df = pd.read_csv('cal_housing_data_clean.csv')\n",
    "features = ['MedInc','HouseAge','AveRooms','AveBedrms','Population','DistCoast','Inland']\n",
    "target = 'MedHouseVal'"
   ]
  },
  {
   "cell_type": "markdown",
   "metadata": {},
   "source": [
    "---\n",
    "\n",
    "# Part I: Experimental Setup\n",
    "\n",
    "The goal of the next few sections is to design an experiment to predict the median home value for census block groups.\n",
    "Before beginning the \"real\" work, refamiliarize yourself with the dataset."
   ]
  },
  {
   "cell_type": "markdown",
   "metadata": {},
   "source": [
    "### 1.1 Begin by writing a function to compute the Root Mean Squared Error for a list of numbers\n",
    "\n",
    "You can find the sqrt function in the Numpy package. Furthermore the details of RMSE can be found on [Wikipedia](http://en.wikipedia.org/wiki/Root-mean-square_deviation). Do not use a built-in function  to compute RMSE, other than numpy functions like `sqrt` and if needed, `sum` or other relevant ones."
   ]
  },
  {
   "cell_type": "code",
   "execution_count": 15,
   "metadata": {
    "jupyter": {
     "outputs_hidden": true
    }
   },
   "outputs": [],
   "source": [
    "\"\"\"\n",
    "Function\n",
    "--------\n",
    "compute_rmse\n",
    "\n",
    "Given two arrays, one of actual values and one of predicted values,\n",
    "compute the Root Mean Squared Error\n",
    "\n",
    "Parameters\n",
    "----------\n",
    "y_hat : array\n",
    "    numpy array of numerical values corresponding to predictions for each of the N observations\n",
    "\n",
    "y : array\n",
    "    numpy array of numerical values corresponding to the actual values for each of the N observations\n",
    "\n",
    "Returns\n",
    "-------\n",
    "rmse : float\n",
    "    Root Mean Squared Error of the prediction\n",
    "\n",
    "Example\n",
    "-------\n",
    ">>> print(compute_rmse((4,6,3),(2,1,4)))\n",
    ">>> print(compute_rmse(np.array([4,6,3]),np.array([2,1,4]))) # <- note: added this correct syntax\n",
    "3.16\n",
    "\"\"\"\n",
    "def compute_rmse(y_hat, y):\n",
    "    # if not already, conver to np.arrays - # signature above says assume they're already np.arrays,\n",
    "    y_hat = np.array(y_hat)\n",
    "    y = np.array(y)\n",
    "\n",
    "    # Asserts\n",
    "    assert isinstance(y, (np.ndarray, np.generic)) # unnecessary given above\n",
    "    assert isinstance(y_hat, (np.ndarray, np.generic)) \n",
    "    assert np.size(y) == np.size(y_hat)\n",
    "\n",
    "    n = np.sum(~np.isnan(y))\n",
    "    \n",
    "    return np.sqrt(np.sum((y_hat - y)**2)/n)"
   ]
  },
  {
   "cell_type": "markdown",
   "metadata": {},
   "source": [
    "### 1.2 Divide your data into training and testing datasets\n",
    "\n",
    "Randomly select 75% of the data and put this in a training dataset (call this \"cal_df_train\"), and place the remaining 25% in a testing dataset (call this \"cal_df_test\"). Do not use built-in functions.\n",
    "\n",
    "To perform any randomized operation, only use functions in the *numpy library (np.random)*. Do not use other packages for random functions."
   ]
  },
  {
   "cell_type": "code",
   "execution_count": 16,
   "metadata": {
    "jupyter": {
     "outputs_hidden": true
    }
   },
   "outputs": [
    {
     "name": "stdout",
     "output_type": "stream",
     "text": [
      "  n_sizes\n",
      "test:   5160\n",
      "train: 15480\n",
      "total: 20640\n"
     ]
    }
   ],
   "source": [
    "# leave the following line untouched, it will help ensure that your \"random\" split is the same \"random\" split used by the rest of the class\n",
    "np.random.seed(seed=1948)\n",
    "\n",
    "# your code here\n",
    "\n",
    "# Set values\n",
    "test_prop = .25\n",
    "n = len(cal_df)\n",
    "test_n = int(np.ceil(n * test_prop))\n",
    "\n",
    "indices = cal_df.index.values\n",
    "\n",
    "test_indices = np.random.choice(indices, size = test_n, replace=False)\n",
    "train_indices = np.array([i for i in indices if i not in test_indices]) # this is so slow :/\n",
    "\n",
    "assert np.size(test_indices) == test_n\n",
    "\n",
    "# Create actual test/train\n",
    "cal_df_test = cal_df.loc[test_indices,:]\n",
    "cal_df_train = cal_df.loc[train_indices,:]\n",
    "\n",
    "# Note: above is to ensure the exact amount of test subjects, and relies on more non-native functions\n",
    "    # With sufficiently large n, this doesn't really matter, whereas speed and readability matter a lot more. \n",
    "    # So I'd probably do this:\n",
    "# in_test = np.random.random_sample(n) < test_prop\n",
    "# cal_df_test = cal_df[in_test]\n",
    "# cal_df_train = cal_df[~in_test]\n",
    "\n",
    "print(f\"  n_sizes\\ntest:   {len(cal_df_test)}\\ntrain: {len(cal_df_train)}\\ntotal: {len(cal_df)}\")"
   ]
  },
  {
   "cell_type": "markdown",
   "metadata": {},
   "source": [
    "### 1.3 Use a baseline for prediction, and compute RMSE \n",
    "\n",
    "Let's start by creating a very bad baseline model that predicts median house values as the average of `MedHouseVal`.\n",
    "\n",
    "Specifically, create a model that predicts, for every observation X_i, the median home value as the average of the median home values of block groups in the **training set**.\n",
    "\n",
    "Once the model is built, do the following:\n",
    "\n",
    "1. Report the RMSE of the training set and report it.\n",
    "2. Report the RMSE of the test data set (but use the model you trained on the training set!).\n",
    "3. How does RMSE compare for training vs. testing datasets? Is this what you expected, and why?\n",
    "4. Add code to your function to measure the running time of your algorithm. How long does it take to compute the predicted values for the test data?\n",
    "5. Create a scatter plot that shows the true value of each instance on the x-axis and the predicted value of each instance on the y-axis. Color the training instances in blue and the test instances in gold. Make sure to label your axes appropriately, and add a legend to your figure."
   ]
  },
  {
   "cell_type": "code",
   "execution_count": 17,
   "metadata": {},
   "outputs": [
    {
     "name": "stdout",
     "output_type": "stream",
     "text": [
      "train RMSE:  1.193\n",
      "test RMSE:   1.165\n",
      "test set predicted in 0.000228 seconds\n"
     ]
    },
    {
     "data": {
      "image/png": "[encoded data removed]",
      "text/plain": [
       "<Figure size 640x480 with 1 Axes>"
      ]
     },
     "metadata": {},
     "output_type": "display_data"
    }
   ],
   "source": [
    "# your code here - `median_model`\n",
    "\n",
    "# set true y\n",
    "y = cal_df_train['MedHouseVal']\n",
    "\n",
    "# Build (crappy) Model\n",
    "median_model__y_hat_train = np.full(len(cal_df_train), np.median(cal_df_train['MedHouseVal'])) # create array of size train_n with values all median \n",
    "assert np.size(median_model__y_hat_train) == n - test_n\n",
    "\n",
    "# 1) Report the RMSE of train\n",
    "median_model__rmse_train = compute_rmse(median_model__y_hat_train, cal_df_train['MedHouseVal'])\n",
    "print(f\"train RMSE: {median_model__rmse_train: .3f}\")\n",
    "\n",
    "# 2) Report RMSE\n",
    "median_model__y_hat_test = np.full(len(cal_df_test),np.median(cal_df_train['MedHouseVal']))\n",
    "median_model__rmse_test = compute_rmse(median_model__y_hat_test, cal_df_test['MedHouseVal'])\n",
    "print(f\"test RMSE:  {median_model__rmse_test: .3f}\")\n",
    "\n",
    "# 3) How do they compare\n",
    "    # The train error is actually smaller than the test error. This is somewhat unexpected since the model is only using the data from the training set.\n",
    "    # However, since the test set is smaller,...\n",
    "\n",
    "# 4) Add code to your function to measure the running time of your algorithm. How long does it take to compute the predicrted values for the test data?\n",
    "t_start = time.time()\n",
    "median_model__y_hat_test = np.full(len(cal_df_test), np.median(cal_df_train['MedHouseVal']))\n",
    "\n",
    "t2 = time.time() - t_start\n",
    "print(f\"test set predicted in {t2:.6f} seconds\") # This is just the amount of time to access MedHouseVal, calculate the median and create the array.\n",
    "# I assume np.median is the slowest part of this since it has to run in test_n time\n",
    "\n",
    "# 5) Create a scatter plot that shows the true value of each instance on the x-axis and the predicted value of each instance on the y-axis. \n",
    "    # Color the training instances in blue and test instances in gold. Make sure to albel your axes appropriately, and add a legend to your figure\n",
    "\n",
    "plt.figure(0)\n",
    "plt.scatter(cal_df_train['MedHouseVal'], median_model__y_hat_train, color='blue', label = 'Train Set')\n",
    "plt.scatter(cal_df_test['MedHouseVal'], median_model__y_hat_test, color = 'gold', label = 'Test Set')\n",
    "plt.xlabel('True Median House Value')\n",
    "plt.ylabel('Predicted House Value (median_model)')\n",
    "plt.legend()\n",
    "plt.title('Predicted vs. Actual (median_model)')\n",
    "plt.ylim(0, max(cal_df['MedHouseVal']))\n",
    "plt.show()\n"
   ]
  },
  {
   "cell_type": "markdown",
   "metadata": {},
   "source": [
    "*your answer here*\n",
    "\n",
    "See comments above. This model is unsurprisingly fairly innacurate and thus the plot is both difficult and easy to interpret"
   ]
  },
  {
   "cell_type": "markdown",
   "metadata": {},
   "source": [
    "### 1.4 Use another baseline for prediction, and compute RMSE [extra-credit]\n",
    "\n",
    "Now consider a baseline model that predicts median house values as the averages of `MedHouseVal` based on whether the census block is adjacent to the coast or inland (note that the `Inland` feature is already computed and ready for you).\n",
    "\n",
    "Specifically, create a model that predicts, for every observation X_i, the median home value as the average of the median home values of block groups in the **training set** that have the same adjacency value.\n",
    "\n",
    "For example, for an input observation where `Inland==1`, the model should predict the `MedHouseVal` as the average of all `MedHouseVal` values in the training set that also have `Inland==1`.\n",
    "\n",
    "Once the model is built, do the following:\n",
    "\n",
    "1. Compute the RMSE of the training set.\n",
    "2. Now compute the RMSE of the test data set (but use the model you trained on the training set!).\n",
    "3. How does RMSE compare for training vs. testing datasets? Is this what you expected, and why?\n",
    "4. Add code to your function to measure the running time of your algorithm. How long does it take to compute the predicted values for the test data?\n",
    "5. Create a scatter plot that shows the true value of each instance on the x-axis and the predicted value of each instance on the y-axis. Color the training instances in blue and the test instances in gold. Make sure to label your axes appropriately, and add a legend to your figure to make clear which dots are which.\n",
    "6. Compare this results to those obtained in 1.3. Is coast adjacency improving the predictions? \n",
    "\n",
    "*Note:* The `groupby` operation might come handy here."
   ]
  },
  {
   "cell_type": "code",
   "execution_count": 18,
   "metadata": {
    "jupyter": {
     "outputs_hidden": true
    }
   },
   "outputs": [
    {
     "name": "stdout",
     "output_type": "stream",
     "text": [
      "train RMSE:   1.018\n",
      "test RMSE:   0.984\n",
      "test set predicted in 0.000294 seconds\n"
     ]
    },
    {
     "data": {
      "image/png": "[encoded data removed]",
      "text/plain": [
       "<Figure size 640x480 with 1 Axes>"
      ]
     },
     "metadata": {},
     "output_type": "display_data"
    }
   ],
   "source": [
    "# your code here - `inland_mean_model`\n",
    "\n",
    "# \"train\" model using groupby means\n",
    "inland_mean_model__y_hat = (\n",
    "    cal_df_train\n",
    "    .groupby('Inland')\n",
    "    .mean()\n",
    "    ['MedHouseVal']\n",
    "    .to_dict()\n",
    ")\n",
    "\n",
    "# predict y_hat_train/test using model\n",
    "inland_mean_model__y_hat_train = cal_df_train['Inland'].map(inland_mean_model__y_hat)\n",
    "inland_mean_model__y_hat_test = cal_df_test['Inland'].map(inland_mean_model__y_hat)\n",
    "\n",
    "# 1) Compute RMSE of training set\n",
    "inland_mean_model__rmse_train = compute_rmse(inland_mean_model__y_hat_train, cal_df_train['MedHouseVal'])\n",
    "print(f\"train RMSE:  {inland_mean_model__rmse_train: .3f}\")\n",
    "\n",
    "# 2) Compute RMSE of test set\n",
    "inland_mean_model__rmse_test = compute_rmse(inland_mean_model__y_hat_test, cal_df_test['MedHouseVal'])\n",
    "print(f\"test RMSE:  {inland_mean_model__rmse_test: .3f}\")\n",
    "\n",
    "# 3) Again the test set has a lower error than the train set. Again this is generally unexpected in most cases, but here, with such a simple,\n",
    "    # and brute-force model, the marginal difference between the sets is not really surprising.\n",
    "\n",
    "# 4) Add code to your function to measure the running time of your algorithm. How long does it take to compute the predicrted values for the test data?\n",
    "t_start = time.time()\n",
    "inland_mean_model__y_hat_test = np.full(len(cal_df_test), cal_df_test['Inland'].map(inland_mean_model__y_hat))\n",
    "\n",
    "t2 = time.time() - t_start\n",
    "print(f\"test set predicted in {t2:.6f} seconds\") # the same as before. Note: This ignores the actual model training, is that fine? TODO\n",
    "\n",
    "# 5) Create a scatter plot that shows the true value of each instance on the x-axis and the predicted value of each instance on the y-axis. \n",
    "    # Color the training instances in blue and test instances in gold. Make sure to albel your axes appropriately, and add a legend to your figure\n",
    "\n",
    "plt.figure(1)\n",
    "plt.scatter(cal_df_train['MedHouseVal'], inland_mean_model__y_hat_train, color='blue', label = 'Train Set')\n",
    "plt.scatter(cal_df_test['MedHouseVal'], inland_mean_model__y_hat_test, color = 'gold', label = 'Test Set')\n",
    "plt.xlabel('True Median House Value')\n",
    "plt.ylabel('Predicted House Value (inland_mean_model)')\n",
    "plt.legend()\n",
    "plt.title('Predicted vs. Actual (inland_mean_model)')\n",
    "plt.ylim(0, max(cal_df['MedHouseVal']))\n",
    "plt.show()"
   ]
  },
  {
   "cell_type": "markdown",
   "metadata": {},
   "source": [
    "*your answer here*\n",
    "6) Compare to 1.3\n",
    "\n",
    "The avg error did go down, and we can see in the scatter plot that is largely because there is more specificity in the model as the appears to be real separation in the mean values for each group. This is still a very basic and simplistic model though."
   ]
  },
  {
   "cell_type": "markdown",
   "metadata": {},
   "source": [
    "---\n",
    "\n",
    "# Part II: Nearest Neighbors and Cross-Validation\n",
    "Let's try and build a machine learning algorithm to beat the \"Average Values\" baselines that you computed above. Your next task is to implement a basic nearest neighbor algorithm from scratch. "
   ]
  },
  {
   "cell_type": "markdown",
   "metadata": {},
   "source": [
    "### 2.1 Nearest Neighbors: Normalization\n",
    "\n",
    "Create normalized analogues of all the features in both the training and test datasets. Recall that this involves substracting the **training** mean and dividing by the **training** standard deviation. \n",
    "\n",
    "Include the normalized features as additional columns in the train an test dataframes and call them \n",
    "`MedIncNorm, HouseAgeNorm, AveRoomsNorm, AveBedrmsNorm, PopulationNorm, AveOccupNorm, DistCoastNorm and InlandNorm` respectively."
   ]
  },
  {
   "cell_type": "code",
   "execution_count": 19,
   "metadata": {},
   "outputs": [
    {
     "data": {
      "text/html": [
       "<div>\n",
       "<style scoped>\n",
       "    .dataframe tbody tr th:only-of-type {\n",
       "        vertical-align: middle;\n",
       "    }\n",
       "\n",
       "    .dataframe tbody tr th {\n",
       "        vertical-align: top;\n",
       "    }\n",
       "\n",
       "    .dataframe thead th {\n",
       "        text-align: right;\n",
       "    }\n",
       "</style>\n",
       "<table border=\"1\" class=\"dataframe\">\n",
       "  <thead>\n",
       "    <tr style=\"text-align: right;\">\n",
       "      <th></th>\n",
       "      <th>MedInc</th>\n",
       "      <th>HouseAge</th>\n",
       "      <th>AveRooms</th>\n",
       "      <th>AveBedrms</th>\n",
       "      <th>Population</th>\n",
       "      <th>AveOccup</th>\n",
       "      <th>DistCoast</th>\n",
       "      <th>Inland</th>\n",
       "      <th>MedHouseVal</th>\n",
       "      <th>MedIncNorm</th>\n",
       "      <th>HouseAgeNorm</th>\n",
       "      <th>AveRoomsNorm</th>\n",
       "      <th>AveBedrmsNorm</th>\n",
       "      <th>PopulationNorm</th>\n",
       "      <th>AveOccupNorm</th>\n",
       "      <th>DistCoastNorm</th>\n",
       "      <th>InlandNorm</th>\n",
       "    </tr>\n",
       "  </thead>\n",
       "  <tbody>\n",
       "    <tr>\n",
       "      <th>0</th>\n",
       "      <td>3.6885</td>\n",
       "      <td>49</td>\n",
       "      <td>5.184569</td>\n",
       "      <td>1.052950</td>\n",
       "      <td>2363</td>\n",
       "      <td>3.574887</td>\n",
       "      <td>4205.460788</td>\n",
       "      <td>0</td>\n",
       "      <td>2.540</td>\n",
       "      <td>-0.094528</td>\n",
       "      <td>1.614572</td>\n",
       "      <td>-0.097958</td>\n",
       "      <td>-0.091654</td>\n",
       "      <td>0.826997</td>\n",
       "      <td>0.045167</td>\n",
       "      <td>-0.734555</td>\n",
       "      <td>-0.675873</td>\n",
       "    </tr>\n",
       "    <tr>\n",
       "      <th>1</th>\n",
       "      <td>3.5444</td>\n",
       "      <td>12</td>\n",
       "      <td>4.786854</td>\n",
       "      <td>1.027230</td>\n",
       "      <td>2029</td>\n",
       "      <td>1.905164</td>\n",
       "      <td>72365.363970</td>\n",
       "      <td>1</td>\n",
       "      <td>1.325</td>\n",
       "      <td>-0.170394</td>\n",
       "      <td>-1.318462</td>\n",
       "      <td>-0.265956</td>\n",
       "      <td>-0.146872</td>\n",
       "      <td>0.533643</td>\n",
       "      <td>-0.103242</td>\n",
       "      <td>0.665384</td>\n",
       "      <td>1.479568</td>\n",
       "    </tr>\n",
       "    <tr>\n",
       "      <th>2</th>\n",
       "      <td>4.2011</td>\n",
       "      <td>9</td>\n",
       "      <td>6.045161</td>\n",
       "      <td>1.038710</td>\n",
       "      <td>1955</td>\n",
       "      <td>3.153226</td>\n",
       "      <td>166848.071800</td>\n",
       "      <td>1</td>\n",
       "      <td>1.081</td>\n",
       "      <td>0.175346</td>\n",
       "      <td>-1.556276</td>\n",
       "      <td>0.265564</td>\n",
       "      <td>-0.122226</td>\n",
       "      <td>0.468648</td>\n",
       "      <td>0.007688</td>\n",
       "      <td>2.605970</td>\n",
       "      <td>1.479568</td>\n",
       "    </tr>\n",
       "    <tr>\n",
       "      <th>3</th>\n",
       "      <td>3.1630</td>\n",
       "      <td>26</td>\n",
       "      <td>4.267241</td>\n",
       "      <td>0.961207</td>\n",
       "      <td>719</td>\n",
       "      <td>3.099138</td>\n",
       "      <td>28060.624020</td>\n",
       "      <td>0</td>\n",
       "      <td>1.794</td>\n",
       "      <td>-0.371194</td>\n",
       "      <td>-0.208666</td>\n",
       "      <td>-0.485446</td>\n",
       "      <td>-0.288616</td>\n",
       "      <td>-0.616937</td>\n",
       "      <td>0.002881</td>\n",
       "      <td>-0.244593</td>\n",
       "      <td>-0.675873</td>\n",
       "    </tr>\n",
       "    <tr>\n",
       "      <th>4</th>\n",
       "      <td>4.6197</td>\n",
       "      <td>21</td>\n",
       "      <td>3.701933</td>\n",
       "      <td>1.019329</td>\n",
       "      <td>1489</td>\n",
       "      <td>1.514751</td>\n",
       "      <td>5593.110112</td>\n",
       "      <td>0</td>\n",
       "      <td>3.875</td>\n",
       "      <td>0.395732</td>\n",
       "      <td>-0.605022</td>\n",
       "      <td>-0.724238</td>\n",
       "      <td>-0.163835</td>\n",
       "      <td>0.059358</td>\n",
       "      <td>-0.137943</td>\n",
       "      <td>-0.706054</td>\n",
       "      <td>-0.675873</td>\n",
       "    </tr>\n",
       "    <tr>\n",
       "      <th>...</th>\n",
       "      <td>...</td>\n",
       "      <td>...</td>\n",
       "      <td>...</td>\n",
       "      <td>...</td>\n",
       "      <td>...</td>\n",
       "      <td>...</td>\n",
       "      <td>...</td>\n",
       "      <td>...</td>\n",
       "      <td>...</td>\n",
       "      <td>...</td>\n",
       "      <td>...</td>\n",
       "      <td>...</td>\n",
       "      <td>...</td>\n",
       "      <td>...</td>\n",
       "      <td>...</td>\n",
       "      <td>...</td>\n",
       "      <td>...</td>\n",
       "    </tr>\n",
       "    <tr>\n",
       "      <th>20632</th>\n",
       "      <td>2.9119</td>\n",
       "      <td>45</td>\n",
       "      <td>4.796020</td>\n",
       "      <td>0.860697</td>\n",
       "      <td>613</td>\n",
       "      <td>3.049751</td>\n",
       "      <td>5750.389617</td>\n",
       "      <td>0</td>\n",
       "      <td>2.289</td>\n",
       "      <td>-0.503394</td>\n",
       "      <td>1.297487</td>\n",
       "      <td>-0.262085</td>\n",
       "      <td>-0.504400</td>\n",
       "      <td>-0.710038</td>\n",
       "      <td>-0.001509</td>\n",
       "      <td>-0.702824</td>\n",
       "      <td>-0.675873</td>\n",
       "    </tr>\n",
       "    <tr>\n",
       "      <th>20633</th>\n",
       "      <td>3.4453</td>\n",
       "      <td>37</td>\n",
       "      <td>4.834667</td>\n",
       "      <td>1.050667</td>\n",
       "      <td>1100</td>\n",
       "      <td>2.933333</td>\n",
       "      <td>44519.806300</td>\n",
       "      <td>0</td>\n",
       "      <td>1.767</td>\n",
       "      <td>-0.222569</td>\n",
       "      <td>0.663318</td>\n",
       "      <td>-0.245760</td>\n",
       "      <td>-0.096556</td>\n",
       "      <td>-0.282303</td>\n",
       "      <td>-0.011856</td>\n",
       "      <td>0.093463</td>\n",
       "      <td>-0.675873</td>\n",
       "    </tr>\n",
       "    <tr>\n",
       "      <th>20635</th>\n",
       "      <td>2.8237</td>\n",
       "      <td>34</td>\n",
       "      <td>5.203822</td>\n",
       "      <td>1.019108</td>\n",
       "      <td>1906</td>\n",
       "      <td>3.035032</td>\n",
       "      <td>22623.786330</td>\n",
       "      <td>1</td>\n",
       "      <td>1.107</td>\n",
       "      <td>-0.549830</td>\n",
       "      <td>0.425504</td>\n",
       "      <td>-0.089825</td>\n",
       "      <td>-0.164308</td>\n",
       "      <td>0.425611</td>\n",
       "      <td>-0.002817</td>\n",
       "      <td>-0.356260</td>\n",
       "      <td>1.479568</td>\n",
       "    </tr>\n",
       "    <tr>\n",
       "      <th>20636</th>\n",
       "      <td>5.0526</td>\n",
       "      <td>36</td>\n",
       "      <td>6.088496</td>\n",
       "      <td>1.015487</td>\n",
       "      <td>1211</td>\n",
       "      <td>2.679204</td>\n",
       "      <td>22498.581590</td>\n",
       "      <td>0</td>\n",
       "      <td>2.698</td>\n",
       "      <td>0.623646</td>\n",
       "      <td>0.584046</td>\n",
       "      <td>0.283869</td>\n",
       "      <td>-0.172083</td>\n",
       "      <td>-0.184811</td>\n",
       "      <td>-0.034444</td>\n",
       "      <td>-0.358832</td>\n",
       "      <td>-0.675873</td>\n",
       "    </tr>\n",
       "    <tr>\n",
       "      <th>20638</th>\n",
       "      <td>3.7292</td>\n",
       "      <td>6</td>\n",
       "      <td>4.583333</td>\n",
       "      <td>1.083333</td>\n",
       "      <td>69</td>\n",
       "      <td>2.875000</td>\n",
       "      <td>35154.073600</td>\n",
       "      <td>1</td>\n",
       "      <td>4.750</td>\n",
       "      <td>-0.073100</td>\n",
       "      <td>-1.794090</td>\n",
       "      <td>-0.351926</td>\n",
       "      <td>-0.026424</td>\n",
       "      <td>-1.187836</td>\n",
       "      <td>-0.017041</td>\n",
       "      <td>-0.098900</td>\n",
       "      <td>1.479568</td>\n",
       "    </tr>\n",
       "  </tbody>\n",
       "</table>\n",
       "<p>15480 rows × 17 columns</p>\n",
       "</div>"
      ],
      "text/plain": [
       "       MedInc  HouseAge  AveRooms  AveBedrms  Population  AveOccup  \\\n",
       "0      3.6885        49  5.184569   1.052950        2363  3.574887   \n",
       "1      3.5444        12  4.786854   1.027230        2029  1.905164   \n",
       "2      4.2011         9  6.045161   1.038710        1955  3.153226   \n",
       "3      3.1630        26  4.267241   0.961207         719  3.099138   \n",
       "4      4.6197        21  3.701933   1.019329        1489  1.514751   \n",
       "...       ...       ...       ...        ...         ...       ...   \n",
       "20632  2.9119        45  4.796020   0.860697         613  3.049751   \n",
       "20633  3.4453        37  4.834667   1.050667        1100  2.933333   \n",
       "20635  2.8237        34  5.203822   1.019108        1906  3.035032   \n",
       "20636  5.0526        36  6.088496   1.015487        1211  2.679204   \n",
       "20638  3.7292         6  4.583333   1.083333          69  2.875000   \n",
       "\n",
       "           DistCoast  Inland  MedHouseVal  MedIncNorm  HouseAgeNorm  \\\n",
       "0        4205.460788       0        2.540   -0.094528      1.614572   \n",
       "1       72365.363970       1        1.325   -0.170394     -1.318462   \n",
       "2      166848.071800       1        1.081    0.175346     -1.556276   \n",
       "3       28060.624020       0        1.794   -0.371194     -0.208666   \n",
       "4        5593.110112       0        3.875    0.395732     -0.605022   \n",
       "...              ...     ...          ...         ...           ...   \n",
       "20632    5750.389617       0        2.289   -0.503394      1.297487   \n",
       "20633   44519.806300       0        1.767   -0.222569      0.663318   \n",
       "20635   22623.786330       1        1.107   -0.549830      0.425504   \n",
       "20636   22498.581590       0        2.698    0.623646      0.584046   \n",
       "20638   35154.073600       1        4.750   -0.073100     -1.794090   \n",
       "\n",
       "       AveRoomsNorm  AveBedrmsNorm  PopulationNorm  AveOccupNorm  \\\n",
       "0         -0.097958      -0.091654        0.826997      0.045167   \n",
       "1         -0.265956      -0.146872        0.533643     -0.103242   \n",
       "2          0.265564      -0.122226        0.468648      0.007688   \n",
       "3         -0.485446      -0.288616       -0.616937      0.002881   \n",
       "4         -0.724238      -0.163835        0.059358     -0.137943   \n",
       "...             ...            ...             ...           ...   \n",
       "20632     -0.262085      -0.504400       -0.710038     -0.001509   \n",
       "20633     -0.245760      -0.096556       -0.282303     -0.011856   \n",
       "20635     -0.089825      -0.164308        0.425611     -0.002817   \n",
       "20636      0.283869      -0.172083       -0.184811     -0.034444   \n",
       "20638     -0.351926      -0.026424       -1.187836     -0.017041   \n",
       "\n",
       "       DistCoastNorm  InlandNorm  \n",
       "0          -0.734555   -0.675873  \n",
       "1           0.665384    1.479568  \n",
       "2           2.605970    1.479568  \n",
       "3          -0.244593   -0.675873  \n",
       "4          -0.706054   -0.675873  \n",
       "...              ...         ...  \n",
       "20632      -0.702824   -0.675873  \n",
       "20633       0.093463   -0.675873  \n",
       "20635      -0.356260    1.479568  \n",
       "20636      -0.358832   -0.675873  \n",
       "20638      -0.098900    1.479568  \n",
       "\n",
       "[15480 rows x 17 columns]"
      ]
     },
     "execution_count": 19,
     "metadata": {},
     "output_type": "execute_result"
    }
   ],
   "source": [
    "# your code here\n",
    "cal_df_train__normalized = cal_df_train.apply(lambda x: (x - np.nanmean(x)) / np.nanstd(x)).rename(columns = lambda x: x + 'Norm')\n",
    "# (cal_df_train - cal_df_train.mean()) / cal_df_train.std() <- after looking it up, apparently this works too since pandas automatically applies colum-wise\n",
    "cal_df_train__with_norm = pd.merge(cal_df_train, cal_df_train__normalized, left_index=True, right_index=True)\n",
    "cal_df_train__with_norm = cal_df_train__with_norm.drop('MedHouseValNorm', axis=1)\n",
    "cal_df_train__with_norm"
   ]
  },
  {
   "cell_type": "markdown",
   "metadata": {},
   "source": [
    "### 2.2 Basic Nearest Neighbor algorithm\n",
    "\n",
    "Use your training data to \"fit\" your model that predicts `MedHouseVal` from `MedIncNorm`, `HouseAgeNorm` and `AveRoomsNorm`, although as you know, with Nearest Neighbors there is no real training, you just need to keep your training data in memory.  Write a function that predicts the median home value using the nearest neighbor algorithm we discussed in class.  Since this is a small dataset, you can simply compare your test instance to every instance in the training set, and return the `MedHouseVal` value of the closest training instance. Have your function take L as an input, where L is an integer >= 1 representing the norm choice. Use the Euclidean distance (L=2) for all questions henceforth unless explicitly stated otherwise.\n",
    "\n",
    "Make sure to do the following - \n",
    "1. Use your algorithm to predict the median home value of every instance in the test set. Report the RMSE (\"test RMSE\")\n",
    "2. Use your algorithm to predict the median home value of every instance in the training set and report the training RMSE.\n",
    "3. Create a scatter plot that shows the true value of each instance on the x-axis and the predicted value of each instance on the y-axis.\n",
    "4. Report an estimate of the total time taken by your code to predict the nearest neighbors for all the values in the test data set.\n",
    "5. How does the performance (test RMSE and total runtime) of your nearest neighbors algorithm compare to the baseline in part 1.4? Explain the\n",
    "\n",
    "**Note:** Runtime should not exceed a couple of minutes. If its taking longer then we strongly suggest you go back to your code and make it more efficient. "
   ]
  },
  {
   "cell_type": "code",
   "execution_count": 23,
   "metadata": {
    "jupyter": {
     "outputs_hidden": true
    }
   },
   "outputs": [
    {
     "name": "stdout",
     "output_type": "stream",
     "text": [
      "185.44725402755438\n",
      "[0 0 0]: 1.3557692050270473\n",
      "[1 1 1]: 2.889244936718336\n",
      "[-1 -1 -1]: 1.1525987897992966\n"
     ]
    }
   ],
   "source": [
    "# your code here\n",
    "\n",
    "train_cols = ['MedIncNorm', 'HouseAgeNorm', 'AveRoomsNorm']\n",
    "\n",
    "def euclidean_distance(x, y, L = 2):\n",
    "    x_ = np.array(x)\n",
    "    y_ = np.array(y)\n",
    "    \n",
    "    return np.power(np.sum(np.power(np.abs(x_-y_), L)), 1/L)\n",
    "\n",
    "euclidean_distance(np.array([2,3,4]), np.array([5, 2, 3]), 1)\n",
    "euclidean_distance([2,3,4], [5, 2, 3], 2)\n",
    "\n",
    "\n",
    "def knn(data, k, cols = None, distance_metric = euclidean_distance, **kwargs):\n",
    "    # Param Handling\n",
    "\n",
    "    # Algorithm\n",
    "\n",
    "    ## given unlabeled data x_j, distance func D(*), find K nearest neighbors, X_1,...X_k\n",
    "    ## - predict f(x_j) = \\sum(y_k) \\forall k 1->K\n",
    "\n",
    "    ## for each instance (data[cols])\n",
    "    ## \n",
    "\n",
    "    print(distance_metric(data['MedIncNorm'], data['HouseAgeNorm']))\n",
    "\n",
    "#euclidean_distance(cal_df_train__with_norm['MedIncNorm'], cal_df_train__with_norm['HouseAgeNorm'])\n",
    "\n",
    "knn(cal_df_train__with_norm, 2)\n",
    "\n",
    "\n",
    "centers = [np.array([0,0,0]), np.array([1,1,1]), np.array([-1,-1,-1])]\n",
    "for c in centers:\n",
    "    print(f\"{c}: {euclidean_distance(c, cal_df_train__with_norm.loc[1, train_cols])}\")\n",
    "\n",
    "\n",
    "#map(centers, euclidean_distance, cal_df_train__with_norm.loc[1, train_cols])\n",
    "\n",
    "\n",
    "# create K centers\n",
    "# dists = np.matrix\n"
   ]
  },
  {
   "cell_type": "code",
   "execution_count": 38,
   "metadata": {},
   "outputs": [
    {
     "data": {
      "text/html": [
       "<div>\n",
       "<style scoped>\n",
       "    .dataframe tbody tr th:only-of-type {\n",
       "        vertical-align: middle;\n",
       "    }\n",
       "\n",
       "    .dataframe tbody tr th {\n",
       "        vertical-align: top;\n",
       "    }\n",
       "\n",
       "    .dataframe thead th {\n",
       "        text-align: right;\n",
       "    }\n",
       "</style>\n",
       "<table border=\"1\" class=\"dataframe\">\n",
       "  <thead>\n",
       "    <tr style=\"text-align: right;\">\n",
       "      <th></th>\n",
       "      <th>0</th>\n",
       "      <th>1</th>\n",
       "      <th>2</th>\n",
       "      <th>k</th>\n",
       "    </tr>\n",
       "  </thead>\n",
       "  <tbody>\n",
       "    <tr>\n",
       "      <th>0</th>\n",
       "      <td>1.620301</td>\n",
       "      <td>1.667694</td>\n",
       "      <td>2.910248</td>\n",
       "      <td>0</td>\n",
       "    </tr>\n",
       "    <tr>\n",
       "      <th>1</th>\n",
       "      <td>1.355769</td>\n",
       "      <td>2.889245</td>\n",
       "      <td>1.152599</td>\n",
       "      <td>2</td>\n",
       "    </tr>\n",
       "    <tr>\n",
       "      <th>2</th>\n",
       "      <td>1.588479</td>\n",
       "      <td>2.784600</td>\n",
       "      <td>1.814534</td>\n",
       "      <td>0</td>\n",
       "    </tr>\n",
       "    <tr>\n",
       "      <th>3</th>\n",
       "      <td>0.645743</td>\n",
       "      <td>2.355334</td>\n",
       "      <td>1.134184</td>\n",
       "      <td>0</td>\n",
       "    </tr>\n",
       "    <tr>\n",
       "      <th>4</th>\n",
       "      <td>1.023316</td>\n",
       "      <td>2.431919</td>\n",
       "      <td>1.476523</td>\n",
       "      <td>0</td>\n",
       "    </tr>\n",
       "    <tr>\n",
       "      <th>...</th>\n",
       "      <td>...</td>\n",
       "      <td>...</td>\n",
       "      <td>...</td>\n",
       "      <td>...</td>\n",
       "    </tr>\n",
       "    <tr>\n",
       "      <th>20632</th>\n",
       "      <td>1.416181</td>\n",
       "      <td>1.985334</td>\n",
       "      <td>2.463653</td>\n",
       "      <td>0</td>\n",
       "    </tr>\n",
       "    <tr>\n",
       "      <th>20633</th>\n",
       "      <td>0.741569</td>\n",
       "      <td>1.777624</td>\n",
       "      <td>1.984919</td>\n",
       "      <td>0</td>\n",
       "    </tr>\n",
       "    <tr>\n",
       "      <th>20635</th>\n",
       "      <td>0.701024</td>\n",
       "      <td>1.979833</td>\n",
       "      <td>1.750181</td>\n",
       "      <td>0</td>\n",
       "    </tr>\n",
       "    <tr>\n",
       "      <th>20636</th>\n",
       "      <td>0.900348</td>\n",
       "      <td>0.909672</td>\n",
       "      <td>2.606482</td>\n",
       "      <td>0</td>\n",
       "    </tr>\n",
       "    <tr>\n",
       "      <th>20638</th>\n",
       "      <td>1.829741</td>\n",
       "      <td>3.284233</td>\n",
       "      <td>1.381927</td>\n",
       "      <td>2</td>\n",
       "    </tr>\n",
       "  </tbody>\n",
       "</table>\n",
       "<p>15480 rows × 4 columns</p>\n",
       "</div>"
      ],
      "text/plain": [
       "              0         1         2  k\n",
       "0      1.620301  1.667694  2.910248  0\n",
       "1      1.355769  2.889245  1.152599  2\n",
       "2      1.588479  2.784600  1.814534  0\n",
       "3      0.645743  2.355334  1.134184  0\n",
       "4      1.023316  2.431919  1.476523  0\n",
       "...         ...       ...       ... ..\n",
       "20632  1.416181  1.985334  2.463653  0\n",
       "20633  0.741569  1.777624  1.984919  0\n",
       "20635  0.701024  1.979833  1.750181  0\n",
       "20636  0.900348  0.909672  2.606482  0\n",
       "20638  1.829741  3.284233  1.381927  2\n",
       "\n",
       "[15480 rows x 4 columns]"
      ]
     },
     "metadata": {},
     "output_type": "display_data"
    }
   ],
   "source": [
    "K = 3\n",
    "distance_array = np.zeros([K,cal_df_train__with_norm.shape[0]])\n",
    "\n",
    "#cal_df_train__with_norm[train_cols].apply(lambda x: euclidean_distance(x, pd.DataFrame(centers)), axis = 1)\n",
    "\n",
    "#list(map(np.vectorize(euclidean_distance), centers, cal_df_train__with_norm[train_cols]))\n",
    "\n",
    "#np.apply_over_axes(euclidean_distance, np.matrix(centers), cal_df_train__with_norm[train_cols].head(3), 1)\n",
    "\n",
    "# (\n",
    "#     cal_df_train__with_norm[train_cols]\n",
    "#     .apply(lambda x: min(euclidean_distance(x, pd.DataFrame(centers))), axis = 1)\n",
    "# )\n",
    "\n",
    "#euclidean_distance(cal_df_train__with_norm.loc[0, train_cols], centers[0] + centers[1] + centers[2])\n",
    "\n",
    "# for row in cal_df_train__with_norm[train_cols].head(3):\n",
    "#     print(row)\n",
    "    # for c in centers:\n",
    "    #     print(row)\n",
    "    #     print(c)\n",
    "    #     print(euclidean_distance(row, c))\n",
    "\n",
    "\n",
    "centers_df = pd.DataFrame(centers)\n",
    "cal_df_train__with_norm__dists = (\n",
    "    cal_df_train__with_norm[train_cols]\n",
    "    .apply(lambda x: centers_df.apply(lambda y: euclidean_distance(x, y), axis = 1), axis = 1)\n",
    ")\n",
    "\n",
    "cal_df_train__with_norm__dists['k'] = cal_df_train__with_norm__dists.idxmin(axis = 1)\n",
    "display(cal_df_train__with_norm__dists)\n",
    "\n",
    "# print(euclidean_distance(np.array(cal_df_train__with_norm.loc[0,train_cols]), centers[0]))\n",
    "# print(euclidean_distance(np.array(cal_df_train__with_norm.loc[0,train_cols]), centers[1]))\n",
    "# print(euclidean_distance(np.array(cal_df_train__with_norm.loc[0,train_cols]), centers[2]))\n",
    "# print(euclidean_distance(np.array(cal_df_train__with_norm.loc[1,train_cols]), centers[0]))\n",
    "# print(euclidean_distance(np.array(cal_df_train__with_norm.loc[1,train_cols]), centers[1]))\n",
    "# print(euclidean_distance(np.array(cal_df_train__with_norm.loc[1,train_cols]), centers[2]))\n",
    "# print(euclidean_distance(np.array(cal_df_train__with_norm.loc[2,train_cols]), centers[0]))\n",
    "# print(euclidean_distance(np.array(cal_df_train__with_norm.loc[2,train_cols]), centers[1]))\n",
    "# print(euclidean_distance(np.array(cal_df_train__with_norm.loc[2,train_cols]), centers[2]))"
   ]
  },
  {
   "cell_type": "markdown",
   "metadata": {},
   "source": [
    "*your answer here*"
   ]
  },
  {
   "cell_type": "markdown",
   "metadata": {},
   "source": [
    "### 2.3 Optimization\n",
    "\n",
    "Try to increase the performance of your nearest neighbor algorithm by adding features that you think might be relevant, and by using different values of L in the distance function.  Try a model that uses a different set of 2 features, then try at least one model that uses more than 4 features, then try using a different value of L.  If you're having fun, try a few different combinations of features and L! Use the test set to report the RMSE values.\n",
    "\n",
    "What combination of features and distance function provide the lowest RMSE on the test set?  Do your decisions affect the running time of the algorithm?\n",
    "\n",
    "**Note:** For this and all subsequent questions, you should use normalized features. "
   ]
  },
  {
   "cell_type": "code",
   "execution_count": null,
   "metadata": {},
   "outputs": [],
   "source": [
    "# your code here"
   ]
  },
  {
   "cell_type": "markdown",
   "metadata": {},
   "source": [
    "*your answer here*"
   ]
  },
  {
   "cell_type": "markdown",
   "metadata": {},
   "source": [
    "### 2.4 K-nearest neighbors algorithm\n",
    "\n",
    "Now, implement the K-nearest neighbors algorithm and repeat the analysis in 2.2 by using 5 neighbors (`K=5`). The function(s) you write here will be used several more times in this problem set, so do your best to write efficient code! Make sure to do the following:\n",
    "1. Use your algorithm to predict the median home value of every instance in the test set. Report the RMSE (\"test RMSE\")\n",
    "2. Use your algorithm to predict the median home value of every instance in the training set and report the training RMSE.\n",
    "3. Create a scatter plot that shows the true value of each instance on the x-axis and the predicted value of each instance on the y-axis.\n",
    "4. Report an estimate of the total time taken by your code to predict the nearest neighbors for all the values in the test data set.\n",
    "5. How does the performance (test RMSE and total runtime) of your nearest neighbors algorithm compare to the baseline in part 1.4?\n",
    "\n",
    "**Note:** Runtime should not exceed a couple of minutes. If its taking longer then we strongly suggest you go back to your code and make it more efficient. "
   ]
  },
  {
   "cell_type": "code",
   "execution_count": null,
   "metadata": {},
   "outputs": [],
   "source": [
    "# your code here"
   ]
  },
  {
   "cell_type": "markdown",
   "metadata": {},
   "source": [
    "*your answer here*"
   ]
  },
  {
   "cell_type": "markdown",
   "metadata": {},
   "source": [
    "### 2.5 Cross-Validation\n",
    "\n",
    "How can we choose K without overfitting? As discussed during lecture time, one possible solution is to use [k-fold cross-validation][1] on the training sample.  Here you must implement a simple k-fold cross-validation algorithm yourself.  The function(s) you write here will be used several more times in this problem set, so do your best to write efficient code! \n",
    "\n",
    "Use 20-fold cross-validation and report the average RMSE for your K-nearest neighbors model using Euclidean distance with the same set of features used in 2.4 (`MedIncNorm, HouseAgeNorm and AveRoomsNorm`) and 5 neighbors (`K=5`)  as well as the total running time for the full run of 20 folds.  \n",
    "\n",
    "In other words, randomly divide your training dataset (created in 1.2) into 20 equally-sized samples. For each of the 20 iterations (the \"folds\"), use 19 samples as \"training data\" (even though there is no training in k-NN!), and the remaining 1 sample for validation.  Compute the RMSE of that particular validation set, then move on to the next iteration.  \n",
    "\n",
    " - Report the average cross-validated RMSE across the 20 iterations and compare to the result you obtained in 2.3. What do you observe?\n",
    " - Report the runtime of your algorithm.How does it compare to your previous results?\n",
    "\n",
    "[1]: http://en.wikipedia.org/wiki/Cross-validation_(statistics)\n",
    "[2]: http://scikit-learn.org/stable/modules/cross_validation.html#cross-validation\n",
    "\n",
    "**Note 1:** Runtime should not exceed a couple of minutes. If its taking longer then we strongly suggest you go back to your code and make it more efficient. \n",
    "\n",
    "**Note 2**: The sklearn package has a built-in [K-fold][2] iterator -- you should *not* be invoking that or any related algorithms in this section of the problem set.\n",
    "\n",
    "**Note 3:** To perform any randomized operation, only use functions in the *numpy library (np.random)*. Do not use other packages for random functions."
   ]
  },
  {
   "cell_type": "code",
   "execution_count": null,
   "metadata": {
    "jupyter": {
     "outputs_hidden": true
    }
   },
   "outputs": [],
   "source": [
    "# your code here"
   ]
  },
  {
   "cell_type": "markdown",
   "metadata": {},
   "source": [
    "*your anwer here*"
   ]
  },
  {
   "cell_type": "markdown",
   "metadata": {},
   "source": [
    "### 2.6 Using cross validation to find the optimal value for K\n",
    "\n",
    "Compute the cross-validated RMSE for values of K between 1 and 25 using 10-fold cross-validation and L2 normalization.  Use the following features in your model: `MedIncNorm, HouseAgeNorm and AveRoomsNorm` .  Create a graph that shows how cross-validated RMSE changes as K increases from 1 to 25.  Label your axes, and summarize what you see.  What do you think is a reasonable choice of K for this model?\n",
    "\n",
    "Finally, \"train\" a K-nearest neighbor model using the value of K that minimized the cross-validated RMSE and report the test RMSE. (Continue to use L2 normalization and the same set of features). How does the test RMSE compare to the cross-validated RMSE, and is this what you expected? \n",
    "\n",
    "**Note:** Runtime should not exceed ~30 min. If its taking longer then we strongly suggest you go back to your code and make it more efficient. "
   ]
  },
  {
   "cell_type": "code",
   "execution_count": null,
   "metadata": {
    "jupyter": {
     "outputs_hidden": true
    },
    "scrolled": false
   },
   "outputs": [],
   "source": [
    "# your code here"
   ]
  },
  {
   "cell_type": "markdown",
   "metadata": {},
   "source": [
    "*your answer here*"
   ]
  },
  {
   "cell_type": "markdown",
   "metadata": {},
   "source": [
    "---\n",
    "\n",
    "# Part III: Overfitting in Model Selection and Nested Cross Validation \n"
   ]
  },
  {
   "cell_type": "markdown",
   "metadata": {},
   "source": [
    "In this last part of the problem set, we will examine why overfitting is a serious concern when estimating hyperparameters and how to address it. \n",
    "\n",
    "**For this part of the problem set you are allowed to use machine learning libraries. We don't expect you to use your own algorithms developed in part 2.** We strongly suggest that you use the following libraries and resources, but feel free to choose your favorite Python ML libraries."
   ]
  },
  {
   "cell_type": "code",
   "execution_count": null,
   "metadata": {},
   "outputs": [],
   "source": [
    "from sklearn.model_selection import GridSearchCV, KFold, cross_val_score\n",
    "from sklearn.neighbors import KNeighborsClassifier\n",
    "from sklearn.metrics import roc_auc_score\n",
    "import joblib"
   ]
  },
  {
   "cell_type": "markdown",
   "metadata": {},
   "source": [
    "For this part of the problem set we will no longer be using the California Housing Dataset. Instead, we will generate our own synthetic data. The advantage of doing so is that we get to choose the data generating process. We will use the knowledge about the data generating process to test the robustness of different approaches to estimating out-of-sample performance.\n",
    "\n",
    "We will attempt the following classification problem: predict a binary response variable $y \\sim Bernoulli(p=1/2)$ from a set of independent features $X=[x_{1},...,x_{J}]$ where $x_{j} \\sim Unif(a=0,b=1)$, $1 \\leq j \\leq J$. \n",
    "\n",
    "You can use the following function to generate samples from this distribution."
   ]
  },
  {
   "cell_type": "code",
   "execution_count": null,
   "metadata": {},
   "outputs": [],
   "source": [
    "def generate_random_sample(nobs,J):\n",
    "    X = pd.DataFrame(np.random.random_sample(size=(nobs, J)), columns=[f'feature_{x}' for x in range(J)])\n",
    "    y = np.random.binomial(n=1,p=1/2,size=nobs)\n",
    "    return X,y\n",
    "\n",
    "X_train,y_train = generate_random_sample(nobs=2*10**3,J=100)"
   ]
  },
  {
   "cell_type": "markdown",
   "metadata": {},
   "source": [
    "### 3.1 Out-of-sample performance\n",
    "\n",
    "We are going to be using the area under the ROC curve (AUC-ROC) as the evaluation score. What kind of out-of-sample performance would you expect from classification models trained and tested on this data? Test whether your intuition is correct by carrying out the following iterative procedure:\n",
    "\n",
    "1. For each iteration in 1,2,3,...,50:\n",
    "    * Generate a training sample containing 2,000 observations and J=100 features. Likewise, generate a test sample containing 200 observations and J=100 features. \n",
    "    * Train some K-nearest neighbors model on the training sample with some arbitrary choice of K (no need to cross validate the choice of K or put any work into it, we'll get to that later on).\n",
    "    * Evaluate the AUC-ROC on the test set.\n",
    "2. Plot a histogram of the test AUC-ROC scores.\n",
    "3. Report the average of the test AUC-ROC scores."
   ]
  },
  {
   "cell_type": "code",
   "execution_count": null,
   "metadata": {},
   "outputs": [],
   "source": [
    "# your code here"
   ]
  },
  {
   "cell_type": "markdown",
   "metadata": {},
   "source": [
    "*your answer here*"
   ]
  },
  {
   "cell_type": "markdown",
   "metadata": {},
   "source": [
    "### Fix a sample"
   ]
  },
  {
   "cell_type": "markdown",
   "metadata": {},
   "source": [
    "In real life settings we wouldn't be able to draw test and train samples at will. For the rest of the pset (3.2-3.6) we will fix a training and test sample:"
   ]
  },
  {
   "cell_type": "code",
   "execution_count": null,
   "metadata": {},
   "outputs": [],
   "source": [
    "X_train,y_train = generate_random_sample(nobs=2*10**3,J=100)\n",
    "X_test,y_test = generate_random_sample(nobs=2*10**2,J=100)"
   ]
  },
  {
   "cell_type": "markdown",
   "metadata": {},
   "source": [
    "### 3.2 k-fold cross-validation \n",
    "Use 10-fold cross-validation on the train sample to find the optimal K and report the hyperparameter value. Report also the average of the cross validated scores for the optimal hyperparameter value. "
   ]
  },
  {
   "cell_type": "code",
   "execution_count": null,
   "metadata": {},
   "outputs": [],
   "source": [
    "# your code here"
   ]
  },
  {
   "cell_type": "markdown",
   "metadata": {},
   "source": [
    "### 3.3 Nested cross-validation\n",
    "\n",
    "Use nested cross validation ([3],[4],[5],[6]) on the training sample. In the outer loop you should be estimating model performance and in the inner loop you should be doing regular k-fold cross validation to find the optimal K. Use 10 folds for the inner cv and 3 folds for the outer cv. Report the average of the cross-validated scores of the outer loop.\n",
    "\n",
    "[3]: https://scikit-learn.org/stable/auto_examples/model_selection/plot_nested_cross_validation_iris.html#sphx-glr-auto-examples-model-selection-plot-nested-cross-validation-iris-py\n",
    "[4]: https://inria.github.io/scikit-learn-mooc/python_scripts/cross_validation_nested.html#:~:text=As%20a%20conclusion%2C%20when%20optimizing,validation%20are%20often%20overly%20optimistic.\n",
    "[5]: https://stats.stackexchange.com/questions/65128/nested-cross-validation-for-model-selection/65156#65156\n",
    "[6]: https://stats.stackexchange.com/questions/232897/how-to-build-the-final-model-and-tune-probability-threshold-after-nested-cross-v/233027#233027"
   ]
  },
  {
   "cell_type": "code",
   "execution_count": null,
   "metadata": {},
   "outputs": [],
   "source": [
    "# your code here"
   ]
  },
  {
   "cell_type": "markdown",
   "metadata": {},
   "source": [
    "### 3.4 Take stock of the results so far\n",
    "\n",
    "Based on the results of 3.1, 3.2 and 3.3, what can you say about estimating out-of-sample performance? Is the average of the cross-validated scores a good estimator? How about the average of the nested cross-validated scores? Are they underestimating or overestimating true out-of-sample performance?"
   ]
  },
  {
   "cell_type": "markdown",
   "metadata": {},
   "source": [
    "*your answer here*"
   ]
  },
  {
   "cell_type": "markdown",
   "metadata": {},
   "source": [
    "### 3.5 Comparing k-fold and nested cross-validation [extra-credit]\n",
    "\n",
    "We would like to better assess the difference between the k-fold and nested cross-validation scores and make sure that the results we observed in 3.2 and 3.3 are not a fluke. To do this, repeat both experiments 50 times. In each iteration, pass a different value for the \"random_state\" parameter in the KFold function to ensure that there is variation in the fold splitting. \n",
    "\n",
    "In a single figure, plot two histograms. One showing the distribution of the k-fold scores, another showing the distribution of the nested scores. Use gold for the color of the objects related to the nested scores and blue for the color of the objects related to the k-fold scores. \n",
    "\n",
    "**Note 1**: you should NOT be generating a new sample -- continue working with the dataset fixed ahead of question 3.2.\n",
    "\n",
    "**Note 2**: Runtime should not exceed 30 min. If its taking longer then we strongly suggest you go back to your code and make it more efficient."
   ]
  },
  {
   "cell_type": "code",
   "execution_count": null,
   "metadata": {},
   "outputs": [],
   "source": [
    "# your code here"
   ]
  },
  {
   "cell_type": "markdown",
   "metadata": {},
   "source": [
    "### 3.6 Conclusion [extra-credit]\n",
    "\n",
    "Based on the figure from 3.5, would you adjust your answer to question 3.4? In a couple of sentences, explain why overfitting can arise when doing model selection, and why nested cross-validation is a useful tool in preventing it. "
   ]
  },
  {
   "cell_type": "markdown",
   "metadata": {},
   "source": [
    "*your answer here*"
   ]
  }
 ],
 "metadata": {
  "jupytext": {
   "formats": "ipynb,py:light"
  },
  "kernelspec": {
   "display_name": "aml",
   "language": "python",
   "name": "python3"
  },
  "language_info": {
   "codemirror_mode": {
    "name": "ipython",
    "version": 3
   },
   "file_extension": ".py",
   "mimetype": "text/x-python",
   "name": "python",
   "nbconvert_exporter": "python",
   "pygments_lexer": "ipython3",
   "version": "3.12.1"
  }
 },
 "nbformat": 4,
 "nbformat_minor": 4
}
