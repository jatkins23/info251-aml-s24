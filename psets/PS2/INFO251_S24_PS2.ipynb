{
 "cells": [
  {
   "cell_type": "markdown",
   "metadata": {},
   "source": [
    "# Problem Set 2"
   ]
  },
  {
   "cell_type": "markdown",
   "metadata": {},
   "source": [
    "## Introduction to the assignment\n",
    "\n",
    "For this assignment, you will be using data from the [Progresa program](http://en.wikipedia.org/wiki/Oportunidades), a government social assistance program in Mexico. This program, as well as the details of its impact, are described in the paper \"[School subsidies for the poor: evaluating the Mexican Progresa poverty program](http://www.sciencedirect.com/science/article/pii/S0304387803001858)\", by Paul Shultz (available on bCourses). Please familiarize yourself with the PROGRESA program before beginning this problem set, so you have a rough sense of where the data come from and how they were generated. If you just proceed into the problem set without understanding Progresa or the data, it will be very difficult!\n",
    "\n",
    "The goal of this problem set is to implement some of the basic econometric techniques that you are learning in class to measure the impact of Progresa on secondary school enrollment rates. The timeline of the program was:\n",
    "\n",
    " * Baseline survey conducted in 1997\n",
    " * Intervention begins in 1998, \"Wave 1\" of surveys conducted in 1998\n",
    " * \"Wave 2\" of surveys conducted in 1999\n",
    " * Evaluation ends in 2000, at which point the control villages were treated. \n",
    " \n",
    "When you are ready, download the progresa_sample.csv data from bCourses. The data are actual data collected to evaluate the impact of the Progresa program.  In this file, each row corresponds to an observation taken for a given child for a given year. There are two years of data (1997 and 1998), and just under 40,000 children who are surveyed in each year. For each child-year observation, the following variables are collected:\n",
    "\n",
    "| Variable name | Description|\n",
    "|------|------|\n",
    "|year\t  |year in which data is collected\n",
    "|sex\t  |male = 1|\n",
    "|indig\t  |indigenous = 1|\n",
    "|dist_sec |nearest distance to a secondary school|\n",
    "|sc\t      |enrolled in school in year of survey|\n",
    "|grc      |grade enrolled|\n",
    "|fam_n    |family size|\n",
    "|min_dist |\tmin distance to an urban center|\n",
    "|dist_cap |\tmin distance to the capital|\n",
    "|poor     |\tpoor = 1|\n",
    "|progresa |treatment =1|\n",
    "|hohedu\t  |years of schooling of head of household|\n",
    "|hohwag\t  |monthly wages of head of household|\n",
    "|welfare_index|\twelfare index used to classify poor|\n",
    "|hohsex\t|gender of head of household (male=1)|\n",
    "|hohage\t|age of head of household|\n",
    "|age\t|years old|\n",
    "|folnum\t|individual id|\n",
    "|village|\tvillage id|\n",
    "|sc97\t|schooling in 1997|\n",
    "|grc97  |grade enrolled in 1997"
   ]
  },
  {
   "cell_type": "markdown",
   "metadata": {},
   "source": [
    "## Notes on Program, Paper & Dataset\n",
    "\n",
    "### Program\n",
    "* Gov't social assistance program in Mexico.\n",
    "* Founded in 2002 - based on program created in 1997\n",
    "* Provides cash payments to families in exchange for: regular school attendance, health clinic visits and nutrition support\n",
    "* Conditional Cash Transfer (CCT)\n",
    "\n",
    "### Paper\n",
    "\n",
    "* Area: Rural mexico\n",
    "* Subject: Poor mothers\n",
    "* IV: education grants provided by the 'Progresa' program\n",
    "* DV: enrollment rate of children\n",
    "* Design: poor children in communities 'randomly' selected are compared to those who reside in 'control' communities\n",
    "    - Probit models used to estimate probability child is enrolled, controlling for additional characteristics of the child, family, community and taking into account attrition\n",
    "    - \n",
    "\n",
    "### Dataset\n",
    "\n",
    "\n"
   ]
  },
  {
   "cell_type": "markdown",
   "metadata": {},
   "source": [
    "---\n",
    "\n",
    "## Part 1: Descriptive analysis\n",
    "\n",
    "### 1.1\tSummary Statistics\n",
    "\n",
    "Present summary statistics (mean, median and standard deviation) for all of the demographic variables in the dataset (i.e., everything except year, folnum, village). Present these in a single table alphabetized by variable name. Do NOT simply expect the grader to scroll through your output!\n",
    "\n",
    "*Note:* For this and subsequent problems, you will need to be careful in how you deal with missing (NULL) values. You should not blindly drop rows and columns where any data field is missing.  For instance, in calculating the average `hohwag`, you should average the `hohwag` values from all households that report a value (even if the household does not have a recorded `age` value, for example). "
   ]
  },
  {
   "cell_type": "code",
   "execution_count": 3,
   "metadata": {
    "collapsed": true,
    "jupyter": {
     "outputs_hidden": true
    }
   },
   "outputs": [],
   "source": [
    "# your code here\n",
    "\n",
    "# Imports\n",
    "import pandas as pd\n",
    "import numpy as np\n",
    "import matplotlib.pyplot as plt \n",
    "import seaborn as sns\n",
    "%matplotlib inline  \n",
    "\n",
    "# The packages you'll need for regression models\n",
    "# import statsmodels.api as sm\n",
    "# import statsmodels.formula.api as smf\n"
   ]
  },
  {
   "cell_type": "code",
   "execution_count": null,
   "metadata": {},
   "outputs": [
    {
     "data": {
      "text/plain": [
       "sex                24\n",
       "indig             300\n",
       "sc               8453\n",
       "grc              6549\n",
       "welfare_index     210\n",
       "hohsex             20\n",
       "hohage             10\n",
       "sc97             3872\n",
       "dtype: int64"
      ]
     },
     "metadata": {},
     "output_type": "display_data"
    },
    {
     "data": {
      "text/plain": [
       "(77250, 21)"
      ]
     },
     "execution_count": 112,
     "metadata": {},
     "output_type": "execute_result"
    }
   ],
   "source": [
    "# Calculate summary Statistics\n",
    "\n",
    "# Read in data\n",
    "df = pd.read_csv('progresa_sample.csv')\n",
    "\n",
    "# Present summary statistics (mean, median and standard deviation) for all of the demographic variables in the dataset (i.e., everything except year, folnum, village). Present these in a single table alphabetized by variable name. Do NOT simply expect the grader to scroll through your output!\n",
    "\n",
    "non_demog_cols = ['year','folnum','village'] # cols to skip\n",
    "\n",
    "df.columns.to_list() \n",
    "\n",
    "# Check for null values, etc. \n",
    "null_col_mask = (df\n",
    " #.drop(non_demog_cols, axis = 1) \n",
    " .isnull()\n",
    " .any()\n",
    ")\n",
    "\n",
    "df_just_null_cols = df.loc[:, null_col_mask]\n",
    "count_missing_vals = df.shape[0] - df_just_null_cols.count() \n",
    "display(count_missing_vals)\n",
    "\n",
    "df.shape\n",
    "\n",
    "# Now let's go through and ensure we treat each correctly:\n",
    "\n",
    "## - sex: this is categorical, we probably don't want to use the mean or especially the median for this\n",
    "## - indig: similarly categorical, ignore for the summary stats\n",
    "## - poor: categorical\n",
    "## - progresa: categorical\n",
    "\n",
    "\n",
    "# Investigate cols with nulls\n",
    "# df_\n",
    "\n",
    "\n",
    "# # Summarize numeric cols\n",
    "# #aggregatable_numeric_cols = ['welfare_index', 'hohage', 'grc', 'age']\n",
    "# df_aggregate_numerics = (\n",
    "#     df\n",
    "#     .loc[:, aggregatable_numeric_cols]\n",
    "#     .apply([np.nanmean, np.nanmedian, np.nanstd], axis = 0) # apply a set of aggregator functions\n",
    "#     .transpose()\n",
    "#     .rename(columns=lambda x: x.replace('nan', ''))\n",
    "# )\n",
    "\n",
    "# display(df_aggregate_numerics)\n",
    "# display(df)\n",
    "\n",
    "# # Summarize non-numeric cols\n",
    "# df_non_numerics = ['sex','indig','poor','progresa','hohsex','sc97']\n",
    "# df_just_null_cols\n",
    " \n",
    "\n",
    "# cols\n",
    "\n",
    "# # list of summary funcs\n",
    "# summary_funcs = {\n",
    "#     mean : lambda x: np.mean(x, )\n",
    "# }\n",
    "# (df.\n",
    "#  apply(\n",
    "#      {}\n",
    "#  )"
   ]
  },
  {
   "cell_type": "code",
   "execution_count": 151,
   "metadata": {},
   "outputs": [
    {
     "data": {
      "text/html": [
       "<style type=\"text/css\">\n",
       "#T_346a6_row0_col0, #T_346a6_row1_col0, #T_346a6_row3_col0, #T_346a6_row6_col0, #T_346a6_row7_col0, #T_346a6_row8_col0, #T_346a6_row9_col0, #T_346a6_row10_col0, #T_346a6_row11_col3, #T_346a6_row12_col0, #T_346a6_row13_col0, #T_346a6_row14_col0, #T_346a6_row15_col0, #T_346a6_row16_col0, #T_346a6_row16_col1, #T_346a6_row16_col2, #T_346a6_row16_col4, #T_346a6_row16_col5, #T_346a6_row16_col6, #T_346a6_row16_col7, #T_346a6_row17_col0 {\n",
       "  background-color: #023858;\n",
       "  color: #f1f1f1;\n",
       "}\n",
       "#T_346a6_row0_col1, #T_346a6_row0_col5, #T_346a6_row6_col3, #T_346a6_row7_col1, #T_346a6_row7_col4, #T_346a6_row7_col5, #T_346a6_row7_col6, #T_346a6_row7_col7, #T_346a6_row8_col1, #T_346a6_row8_col2, #T_346a6_row8_col5, #T_346a6_row8_col6, #T_346a6_row15_col3, #T_346a6_row16_col3 {\n",
       "  background-color: #fef6fb;\n",
       "  color: #000000;\n",
       "}\n",
       "#T_346a6_row0_col2, #T_346a6_row0_col6, #T_346a6_row0_col7, #T_346a6_row1_col1, #T_346a6_row1_col2, #T_346a6_row1_col3, #T_346a6_row1_col4, #T_346a6_row1_col5, #T_346a6_row1_col6, #T_346a6_row1_col7, #T_346a6_row2_col1, #T_346a6_row2_col2, #T_346a6_row2_col3, #T_346a6_row2_col4, #T_346a6_row2_col5, #T_346a6_row2_col6, #T_346a6_row2_col7, #T_346a6_row3_col1, #T_346a6_row3_col2, #T_346a6_row3_col3, #T_346a6_row3_col4, #T_346a6_row3_col5, #T_346a6_row3_col6, #T_346a6_row3_col7, #T_346a6_row4_col0, #T_346a6_row4_col1, #T_346a6_row4_col2, #T_346a6_row4_col3, #T_346a6_row4_col4, #T_346a6_row4_col5, #T_346a6_row4_col6, #T_346a6_row4_col7, #T_346a6_row5_col1, #T_346a6_row5_col2, #T_346a6_row5_col3, #T_346a6_row5_col4, #T_346a6_row5_col5, #T_346a6_row5_col6, #T_346a6_row5_col7, #T_346a6_row6_col1, #T_346a6_row6_col2, #T_346a6_row6_col4, #T_346a6_row6_col5, #T_346a6_row6_col6, #T_346a6_row6_col7, #T_346a6_row7_col2, #T_346a6_row9_col1, #T_346a6_row9_col2, #T_346a6_row9_col3, #T_346a6_row9_col4, #T_346a6_row9_col5, #T_346a6_row9_col6, #T_346a6_row9_col7, #T_346a6_row10_col3, #T_346a6_row12_col1, #T_346a6_row12_col2, #T_346a6_row12_col3, #T_346a6_row12_col4, #T_346a6_row12_col5, #T_346a6_row12_col6, #T_346a6_row12_col7, #T_346a6_row13_col1, #T_346a6_row13_col2, #T_346a6_row13_col4, #T_346a6_row13_col5, #T_346a6_row13_col6, #T_346a6_row13_col7, #T_346a6_row14_col1, #T_346a6_row14_col2, #T_346a6_row14_col4, #T_346a6_row14_col5, #T_346a6_row14_col6, #T_346a6_row14_col7, #T_346a6_row17_col1, #T_346a6_row17_col2, #T_346a6_row17_col3, #T_346a6_row17_col4, #T_346a6_row17_col5, #T_346a6_row17_col6, #T_346a6_row17_col7, #T_346a6_row18_col1, #T_346a6_row18_col2, #T_346a6_row18_col3, #T_346a6_row18_col4, #T_346a6_row18_col5, #T_346a6_row18_col6, #T_346a6_row18_col7 {\n",
       "  background-color: #fff7fb;\n",
       "  color: #000000;\n",
       "}\n",
       "#T_346a6_row0_col3 {\n",
       "  background-color: #62a2cb;\n",
       "  color: #f1f1f1;\n",
       "}\n",
       "#T_346a6_row0_col4, #T_346a6_row8_col4, #T_346a6_row8_col7 {\n",
       "  background-color: #fef6fa;\n",
       "  color: #000000;\n",
       "}\n",
       "#T_346a6_row2_col0 {\n",
       "  background-color: #034267;\n",
       "  color: #f1f1f1;\n",
       "}\n",
       "#T_346a6_row5_col0 {\n",
       "  background-color: #d6d6e9;\n",
       "  color: #000000;\n",
       "}\n",
       "#T_346a6_row7_col3, #T_346a6_row8_col3 {\n",
       "  background-color: #f8f1f8;\n",
       "  color: #000000;\n",
       "}\n",
       "#T_346a6_row10_col1 {\n",
       "  background-color: #fbf3f9;\n",
       "  color: #000000;\n",
       "}\n",
       "#T_346a6_row10_col2 {\n",
       "  background-color: #f4eef6;\n",
       "  color: #000000;\n",
       "}\n",
       "#T_346a6_row10_col4, #T_346a6_row11_col2, #T_346a6_row15_col1, #T_346a6_row15_col2, #T_346a6_row15_col4, #T_346a6_row15_col5, #T_346a6_row15_col6, #T_346a6_row15_col7 {\n",
       "  background-color: #fdf5fa;\n",
       "  color: #000000;\n",
       "}\n",
       "#T_346a6_row10_col5, #T_346a6_row10_col6, #T_346a6_row11_col6 {\n",
       "  background-color: #fbf4f9;\n",
       "  color: #000000;\n",
       "}\n",
       "#T_346a6_row10_col7 {\n",
       "  background-color: #abbfdc;\n",
       "  color: #000000;\n",
       "}\n",
       "#T_346a6_row11_col0 {\n",
       "  background-color: #023e62;\n",
       "  color: #f1f1f1;\n",
       "}\n",
       "#T_346a6_row11_col1, #T_346a6_row11_col5 {\n",
       "  background-color: #faf2f8;\n",
       "  color: #000000;\n",
       "}\n",
       "#T_346a6_row11_col4 {\n",
       "  background-color: #f6eff7;\n",
       "  color: #000000;\n",
       "}\n",
       "#T_346a6_row11_col7, #T_346a6_row14_col3 {\n",
       "  background-color: #faf3f9;\n",
       "  color: #000000;\n",
       "}\n",
       "#T_346a6_row13_col3 {\n",
       "  background-color: #f2ecf5;\n",
       "  color: #000000;\n",
       "}\n",
       "#T_346a6_row18_col0 {\n",
       "  background-color: #60a1ca;\n",
       "  color: #f1f1f1;\n",
       "}\n",
       "</style>\n",
       "<table id=\"T_346a6\">\n",
       "  <thead>\n",
       "    <tr>\n",
       "      <th class=\"blank level0\" >&nbsp;</th>\n",
       "      <th id=\"T_346a6_level0_col0\" class=\"col_heading level0 col0\" >count</th>\n",
       "      <th id=\"T_346a6_level0_col1\" class=\"col_heading level0 col1\" >mean</th>\n",
       "      <th id=\"T_346a6_level0_col2\" class=\"col_heading level0 col2\" >std</th>\n",
       "      <th id=\"T_346a6_level0_col3\" class=\"col_heading level0 col3\" >min</th>\n",
       "      <th id=\"T_346a6_level0_col4\" class=\"col_heading level0 col4\" >25%</th>\n",
       "      <th id=\"T_346a6_level0_col5\" class=\"col_heading level0 col5\" >50%</th>\n",
       "      <th id=\"T_346a6_level0_col6\" class=\"col_heading level0 col6\" >75%</th>\n",
       "      <th id=\"T_346a6_level0_col7\" class=\"col_heading level0 col7\" >max</th>\n",
       "    </tr>\n",
       "  </thead>\n",
       "  <tbody>\n",
       "    <tr>\n",
       "      <th id=\"T_346a6_level0_row0\" class=\"row_heading level0 row0\" >year</th>\n",
       "      <td id=\"T_346a6_row0_col0\" class=\"data row0 col0\" >77250</td>\n",
       "      <td id=\"T_346a6_row0_col1\" class=\"data row0 col1\" >98</td>\n",
       "      <td id=\"T_346a6_row0_col2\" class=\"data row0 col2\" >1</td>\n",
       "      <td id=\"T_346a6_row0_col3\" class=\"data row0 col3\" >97</td>\n",
       "      <td id=\"T_346a6_row0_col4\" class=\"data row0 col4\" >97</td>\n",
       "      <td id=\"T_346a6_row0_col5\" class=\"data row0 col5\" >98</td>\n",
       "      <td id=\"T_346a6_row0_col6\" class=\"data row0 col6\" >98</td>\n",
       "      <td id=\"T_346a6_row0_col7\" class=\"data row0 col7\" >98</td>\n",
       "    </tr>\n",
       "    <tr>\n",
       "      <th id=\"T_346a6_level0_row1\" class=\"row_heading level0 row1\" >sex</th>\n",
       "      <td id=\"T_346a6_row1_col0\" class=\"data row1 col0\" >77226</td>\n",
       "      <td id=\"T_346a6_row1_col1\" class=\"data row1 col1\" >1</td>\n",
       "      <td id=\"T_346a6_row1_col2\" class=\"data row1 col2\" >0</td>\n",
       "      <td id=\"T_346a6_row1_col3\" class=\"data row1 col3\" >0</td>\n",
       "      <td id=\"T_346a6_row1_col4\" class=\"data row1 col4\" >0</td>\n",
       "      <td id=\"T_346a6_row1_col5\" class=\"data row1 col5\" >1</td>\n",
       "      <td id=\"T_346a6_row1_col6\" class=\"data row1 col6\" >1</td>\n",
       "      <td id=\"T_346a6_row1_col7\" class=\"data row1 col7\" >1</td>\n",
       "    </tr>\n",
       "    <tr>\n",
       "      <th id=\"T_346a6_level0_row2\" class=\"row_heading level0 row2\" >indig</th>\n",
       "      <td id=\"T_346a6_row2_col0\" class=\"data row2 col0\" >76950</td>\n",
       "      <td id=\"T_346a6_row2_col1\" class=\"data row2 col1\" >0</td>\n",
       "      <td id=\"T_346a6_row2_col2\" class=\"data row2 col2\" >0</td>\n",
       "      <td id=\"T_346a6_row2_col3\" class=\"data row2 col3\" >0</td>\n",
       "      <td id=\"T_346a6_row2_col4\" class=\"data row2 col4\" >0</td>\n",
       "      <td id=\"T_346a6_row2_col5\" class=\"data row2 col5\" >0</td>\n",
       "      <td id=\"T_346a6_row2_col6\" class=\"data row2 col6\" >1</td>\n",
       "      <td id=\"T_346a6_row2_col7\" class=\"data row2 col7\" >1</td>\n",
       "    </tr>\n",
       "    <tr>\n",
       "      <th id=\"T_346a6_level0_row3\" class=\"row_heading level0 row3\" >dist_sec</th>\n",
       "      <td id=\"T_346a6_row3_col0\" class=\"data row3 col0\" >77250</td>\n",
       "      <td id=\"T_346a6_row3_col1\" class=\"data row3 col1\" >2</td>\n",
       "      <td id=\"T_346a6_row3_col2\" class=\"data row3 col2\" >2</td>\n",
       "      <td id=\"T_346a6_row3_col3\" class=\"data row3 col3\" >0</td>\n",
       "      <td id=\"T_346a6_row3_col4\" class=\"data row3 col4\" >1</td>\n",
       "      <td id=\"T_346a6_row3_col5\" class=\"data row3 col5\" >2</td>\n",
       "      <td id=\"T_346a6_row3_col6\" class=\"data row3 col6\" >4</td>\n",
       "      <td id=\"T_346a6_row3_col7\" class=\"data row3 col7\" >15</td>\n",
       "    </tr>\n",
       "    <tr>\n",
       "      <th id=\"T_346a6_level0_row4\" class=\"row_heading level0 row4\" >sc</th>\n",
       "      <td id=\"T_346a6_row4_col0\" class=\"data row4 col0\" >68797</td>\n",
       "      <td id=\"T_346a6_row4_col1\" class=\"data row4 col1\" >1</td>\n",
       "      <td id=\"T_346a6_row4_col2\" class=\"data row4 col2\" >0</td>\n",
       "      <td id=\"T_346a6_row4_col3\" class=\"data row4 col3\" >0</td>\n",
       "      <td id=\"T_346a6_row4_col4\" class=\"data row4 col4\" >1</td>\n",
       "      <td id=\"T_346a6_row4_col5\" class=\"data row4 col5\" >1</td>\n",
       "      <td id=\"T_346a6_row4_col6\" class=\"data row4 col6\" >1</td>\n",
       "      <td id=\"T_346a6_row4_col7\" class=\"data row4 col7\" >1</td>\n",
       "    </tr>\n",
       "    <tr>\n",
       "      <th id=\"T_346a6_level0_row5\" class=\"row_heading level0 row5\" >grc</th>\n",
       "      <td id=\"T_346a6_row5_col0\" class=\"data row5 col0\" >70701</td>\n",
       "      <td id=\"T_346a6_row5_col1\" class=\"data row5 col1\" >4</td>\n",
       "      <td id=\"T_346a6_row5_col2\" class=\"data row5 col2\" >2</td>\n",
       "      <td id=\"T_346a6_row5_col3\" class=\"data row5 col3\" >0</td>\n",
       "      <td id=\"T_346a6_row5_col4\" class=\"data row5 col4\" >2</td>\n",
       "      <td id=\"T_346a6_row5_col5\" class=\"data row5 col5\" >4</td>\n",
       "      <td id=\"T_346a6_row5_col6\" class=\"data row5 col6\" >6</td>\n",
       "      <td id=\"T_346a6_row5_col7\" class=\"data row5 col7\" >14</td>\n",
       "    </tr>\n",
       "    <tr>\n",
       "      <th id=\"T_346a6_level0_row6\" class=\"row_heading level0 row6\" >fam_n</th>\n",
       "      <td id=\"T_346a6_row6_col0\" class=\"data row6 col0\" >77250</td>\n",
       "      <td id=\"T_346a6_row6_col1\" class=\"data row6 col1\" >7</td>\n",
       "      <td id=\"T_346a6_row6_col2\" class=\"data row6 col2\" >2</td>\n",
       "      <td id=\"T_346a6_row6_col3\" class=\"data row6 col3\" >1</td>\n",
       "      <td id=\"T_346a6_row6_col4\" class=\"data row6 col4\" >6</td>\n",
       "      <td id=\"T_346a6_row6_col5\" class=\"data row6 col5\" >7</td>\n",
       "      <td id=\"T_346a6_row6_col6\" class=\"data row6 col6\" >9</td>\n",
       "      <td id=\"T_346a6_row6_col7\" class=\"data row6 col7\" >24</td>\n",
       "    </tr>\n",
       "    <tr>\n",
       "      <th id=\"T_346a6_level0_row7\" class=\"row_heading level0 row7\" >min_dist</th>\n",
       "      <td id=\"T_346a6_row7_col0\" class=\"data row7 col0\" >77250</td>\n",
       "      <td id=\"T_346a6_row7_col1\" class=\"data row7 col1\" >103</td>\n",
       "      <td id=\"T_346a6_row7_col2\" class=\"data row7 col2\" >42</td>\n",
       "      <td id=\"T_346a6_row7_col3\" class=\"data row7 col3\" >9</td>\n",
       "      <td id=\"T_346a6_row7_col4\" class=\"data row7 col4\" >71</td>\n",
       "      <td id=\"T_346a6_row7_col5\" class=\"data row7 col5\" >111</td>\n",
       "      <td id=\"T_346a6_row7_col6\" class=\"data row7 col6\" >138</td>\n",
       "      <td id=\"T_346a6_row7_col7\" class=\"data row7 col7\" >170</td>\n",
       "    </tr>\n",
       "    <tr>\n",
       "      <th id=\"T_346a6_level0_row8\" class=\"row_heading level0 row8\" >dist_cap</th>\n",
       "      <td id=\"T_346a6_row8_col0\" class=\"data row8 col0\" >77250</td>\n",
       "      <td id=\"T_346a6_row8_col1\" class=\"data row8 col1\" >148</td>\n",
       "      <td id=\"T_346a6_row8_col2\" class=\"data row8 col2\" >76</td>\n",
       "      <td id=\"T_346a6_row8_col3\" class=\"data row8 col3\" >9</td>\n",
       "      <td id=\"T_346a6_row8_col4\" class=\"data row8 col4\" >92</td>\n",
       "      <td id=\"T_346a6_row8_col5\" class=\"data row8 col5\" >132</td>\n",
       "      <td id=\"T_346a6_row8_col6\" class=\"data row8 col6\" >184</td>\n",
       "      <td id=\"T_346a6_row8_col7\" class=\"data row8 col7\" >360</td>\n",
       "    </tr>\n",
       "    <tr>\n",
       "      <th id=\"T_346a6_level0_row9\" class=\"row_heading level0 row9\" >hohedu</th>\n",
       "      <td id=\"T_346a6_row9_col0\" class=\"data row9 col0\" >77250</td>\n",
       "      <td id=\"T_346a6_row9_col1\" class=\"data row9 col1\" >3</td>\n",
       "      <td id=\"T_346a6_row9_col2\" class=\"data row9 col2\" >3</td>\n",
       "      <td id=\"T_346a6_row9_col3\" class=\"data row9 col3\" >0</td>\n",
       "      <td id=\"T_346a6_row9_col4\" class=\"data row9 col4\" >0</td>\n",
       "      <td id=\"T_346a6_row9_col5\" class=\"data row9 col5\" >2</td>\n",
       "      <td id=\"T_346a6_row9_col6\" class=\"data row9 col6\" >4</td>\n",
       "      <td id=\"T_346a6_row9_col7\" class=\"data row9 col7\" >20</td>\n",
       "    </tr>\n",
       "    <tr>\n",
       "      <th id=\"T_346a6_level0_row10\" class=\"row_heading level0 row10\" >hohwag</th>\n",
       "      <td id=\"T_346a6_row10_col0\" class=\"data row10 col0\" >77250</td>\n",
       "      <td id=\"T_346a6_row10_col1\" class=\"data row10 col1\" >587</td>\n",
       "      <td id=\"T_346a6_row10_col2\" class=\"data row10 col2\" >788</td>\n",
       "      <td id=\"T_346a6_row10_col3\" class=\"data row10 col3\" >0</td>\n",
       "      <td id=\"T_346a6_row10_col4\" class=\"data row10 col4\" >120</td>\n",
       "      <td id=\"T_346a6_row10_col5\" class=\"data row10 col5\" >500</td>\n",
       "      <td id=\"T_346a6_row10_col6\" class=\"data row10 col6\" >750</td>\n",
       "      <td id=\"T_346a6_row10_col7\" class=\"data row10 col7\" >14000</td>\n",
       "    </tr>\n",
       "    <tr>\n",
       "      <th id=\"T_346a6_level0_row11\" class=\"row_heading level0 row11\" >welfare_index</th>\n",
       "      <td id=\"T_346a6_row11_col0\" class=\"data row11 col0\" >77040</td>\n",
       "      <td id=\"T_346a6_row11_col1\" class=\"data row11 col1\" >690</td>\n",
       "      <td id=\"T_346a6_row11_col2\" class=\"data row11 col2\" >139</td>\n",
       "      <td id=\"T_346a6_row11_col3\" class=\"data row11 col3\" >180</td>\n",
       "      <td id=\"T_346a6_row11_col4\" class=\"data row11 col4\" >597</td>\n",
       "      <td id=\"T_346a6_row11_col5\" class=\"data row11 col5\" >685</td>\n",
       "      <td id=\"T_346a6_row11_col6\" class=\"data row11 col6\" >770</td>\n",
       "      <td id=\"T_346a6_row11_col7\" class=\"data row11 col7\" >1294</td>\n",
       "    </tr>\n",
       "    <tr>\n",
       "      <th id=\"T_346a6_level0_row12\" class=\"row_heading level0 row12\" >hohsex</th>\n",
       "      <td id=\"T_346a6_row12_col0\" class=\"data row12 col0\" >77230</td>\n",
       "      <td id=\"T_346a6_row12_col1\" class=\"data row12 col1\" >1</td>\n",
       "      <td id=\"T_346a6_row12_col2\" class=\"data row12 col2\" >0</td>\n",
       "      <td id=\"T_346a6_row12_col3\" class=\"data row12 col3\" >0</td>\n",
       "      <td id=\"T_346a6_row12_col4\" class=\"data row12 col4\" >1</td>\n",
       "      <td id=\"T_346a6_row12_col5\" class=\"data row12 col5\" >1</td>\n",
       "      <td id=\"T_346a6_row12_col6\" class=\"data row12 col6\" >1</td>\n",
       "      <td id=\"T_346a6_row12_col7\" class=\"data row12 col7\" >1</td>\n",
       "    </tr>\n",
       "    <tr>\n",
       "      <th id=\"T_346a6_level0_row13\" class=\"row_heading level0 row13\" >hohage</th>\n",
       "      <td id=\"T_346a6_row13_col0\" class=\"data row13 col0\" >77240</td>\n",
       "      <td id=\"T_346a6_row13_col1\" class=\"data row13 col1\" >44</td>\n",
       "      <td id=\"T_346a6_row13_col2\" class=\"data row13 col2\" >12</td>\n",
       "      <td id=\"T_346a6_row13_col3\" class=\"data row13 col3\" >15</td>\n",
       "      <td id=\"T_346a6_row13_col4\" class=\"data row13 col4\" >36</td>\n",
       "      <td id=\"T_346a6_row13_col5\" class=\"data row13 col5\" >43</td>\n",
       "      <td id=\"T_346a6_row13_col6\" class=\"data row13 col6\" >51</td>\n",
       "      <td id=\"T_346a6_row13_col7\" class=\"data row13 col7\" >98</td>\n",
       "    </tr>\n",
       "    <tr>\n",
       "      <th id=\"T_346a6_level0_row14\" class=\"row_heading level0 row14\" >age</th>\n",
       "      <td id=\"T_346a6_row14_col0\" class=\"data row14 col0\" >77250</td>\n",
       "      <td id=\"T_346a6_row14_col1\" class=\"data row14 col1\" >11</td>\n",
       "      <td id=\"T_346a6_row14_col2\" class=\"data row14 col2\" >3</td>\n",
       "      <td id=\"T_346a6_row14_col3\" class=\"data row14 col3\" >6</td>\n",
       "      <td id=\"T_346a6_row14_col4\" class=\"data row14 col4\" >9</td>\n",
       "      <td id=\"T_346a6_row14_col5\" class=\"data row14 col5\" >11</td>\n",
       "      <td id=\"T_346a6_row14_col6\" class=\"data row14 col6\" >14</td>\n",
       "      <td id=\"T_346a6_row14_col7\" class=\"data row14 col7\" >17</td>\n",
       "    </tr>\n",
       "    <tr>\n",
       "      <th id=\"T_346a6_level0_row15\" class=\"row_heading level0 row15\" >village</th>\n",
       "      <td id=\"T_346a6_row15_col0\" class=\"data row15 col0\" >77250</td>\n",
       "      <td id=\"T_346a6_row15_col1\" class=\"data row15 col1\" >254</td>\n",
       "      <td id=\"T_346a6_row15_col2\" class=\"data row15 col2\" >149</td>\n",
       "      <td id=\"T_346a6_row15_col3\" class=\"data row15 col3\" >1</td>\n",
       "      <td id=\"T_346a6_row15_col4\" class=\"data row15 col4\" >126</td>\n",
       "      <td id=\"T_346a6_row15_col5\" class=\"data row15 col5\" >257</td>\n",
       "      <td id=\"T_346a6_row15_col6\" class=\"data row15 col6\" >385</td>\n",
       "      <td id=\"T_346a6_row15_col7\" class=\"data row15 col7\" >505</td>\n",
       "    </tr>\n",
       "    <tr>\n",
       "      <th id=\"T_346a6_level0_row16\" class=\"row_heading level0 row16\" >folnum</th>\n",
       "      <td id=\"T_346a6_row16_col0\" class=\"data row16 col0\" >77250</td>\n",
       "      <td id=\"T_346a6_row16_col1\" class=\"data row16 col1\" >19313</td>\n",
       "      <td id=\"T_346a6_row16_col2\" class=\"data row16 col2\" >11150</td>\n",
       "      <td id=\"T_346a6_row16_col3\" class=\"data row16 col3\" >1</td>\n",
       "      <td id=\"T_346a6_row16_col4\" class=\"data row16 col4\" >9657</td>\n",
       "      <td id=\"T_346a6_row16_col5\" class=\"data row16 col5\" >19313</td>\n",
       "      <td id=\"T_346a6_row16_col6\" class=\"data row16 col6\" >28969</td>\n",
       "      <td id=\"T_346a6_row16_col7\" class=\"data row16 col7\" >38625</td>\n",
       "    </tr>\n",
       "    <tr>\n",
       "      <th id=\"T_346a6_level0_row17\" class=\"row_heading level0 row17\" >grc97</th>\n",
       "      <td id=\"T_346a6_row17_col0\" class=\"data row17 col0\" >77250</td>\n",
       "      <td id=\"T_346a6_row17_col1\" class=\"data row17 col1\" >4</td>\n",
       "      <td id=\"T_346a6_row17_col2\" class=\"data row17 col2\" >3</td>\n",
       "      <td id=\"T_346a6_row17_col3\" class=\"data row17 col3\" >0</td>\n",
       "      <td id=\"T_346a6_row17_col4\" class=\"data row17 col4\" >1</td>\n",
       "      <td id=\"T_346a6_row17_col5\" class=\"data row17 col5\" >4</td>\n",
       "      <td id=\"T_346a6_row17_col6\" class=\"data row17 col6\" >6</td>\n",
       "      <td id=\"T_346a6_row17_col7\" class=\"data row17 col7\" >14</td>\n",
       "    </tr>\n",
       "    <tr>\n",
       "      <th id=\"T_346a6_level0_row18\" class=\"row_heading level0 row18\" >sc97</th>\n",
       "      <td id=\"T_346a6_row18_col0\" class=\"data row18 col0\" >73378</td>\n",
       "      <td id=\"T_346a6_row18_col1\" class=\"data row18 col1\" >1</td>\n",
       "      <td id=\"T_346a6_row18_col2\" class=\"data row18 col2\" >0</td>\n",
       "      <td id=\"T_346a6_row18_col3\" class=\"data row18 col3\" >0</td>\n",
       "      <td id=\"T_346a6_row18_col4\" class=\"data row18 col4\" >1</td>\n",
       "      <td id=\"T_346a6_row18_col5\" class=\"data row18 col5\" >1</td>\n",
       "      <td id=\"T_346a6_row18_col6\" class=\"data row18 col6\" >1</td>\n",
       "      <td id=\"T_346a6_row18_col7\" class=\"data row18 col7\" >1</td>\n",
       "    </tr>\n",
       "  </tbody>\n",
       "</table>\n"
      ],
      "text/plain": [
       "<pandas.io.formats.style.Styler at 0x169f5e6c0>"
      ]
     },
     "execution_count": 151,
     "metadata": {},
     "output_type": "execute_result"
    }
   ],
   "source": [
    "#print('\\n'.join(df.columns.to_list()))\n",
    "(df\n",
    " .describe()\n",
    " .transpose()\n",
    " .apply(round)\n",
    " .style.format(precision=0).background_gradient()\n",
    ")\n",
    "\n",
    "# year - \n",
    "# sex\n",
    "# indig\n",
    "# dist_sec\n",
    "# sc\n",
    "# grc\n",
    "# fam_n\n",
    "# min_dist\n",
    "# dist_cap\n",
    "# poor\n",
    "# progresa\n",
    "# hohedu\n",
    "# hohwag\n",
    "# welfare_index\n",
    "# hohsex\n",
    "# hohage\n",
    "# age\n",
    "# village\n",
    "# folnum\n",
    "# grc97\n",
    "# sc97\n"
   ]
  },
  {
   "cell_type": "markdown",
   "metadata": {},
   "source": [
    "### 1.2 Differences at baseline?\n",
    "\n",
    "Are the baseline (1997) demographic characteristics **for the poor**  different in treatment and control villages?  Present your results in a single table with the following columns and 14 (or so) rows (alphabetized by variable name):\n",
    "\n",
    "\n",
    "| Variable name | Average value (Treatment villages) | Average value (Control villages) | Difference (Treat - Control) | p-value |\n",
    "|------|------|------|------|------|\n",
    "|Male|?|?|?|?|\n",
    "\n",
    " *Hint:* Use a T-Test to determine whether there is a statistically significant difference in the average values of each of the variables in the dataset. Focus only on the data from 1997 from poor households (i.e., poor=='pobre').\n",
    "\n"
   ]
  },
  {
   "cell_type": "code",
   "execution_count": null,
   "metadata": {
    "collapsed": true,
    "jupyter": {
     "outputs_hidden": true
    }
   },
   "outputs": [],
   "source": [
    "# your code here"
   ]
  },
  {
   "cell_type": "markdown",
   "metadata": {},
   "source": [
    "### 1.3 Interpretation\n",
    "\n",
    "* A: Are there statistically significant differences between treatment and control villages at baseline? \n",
    "* B: Why does it matter if there are differences at baseline?\n",
    "* C: What does this imply about how to measure the impact of the treatment?"
   ]
  },
  {
   "cell_type": "markdown",
   "metadata": {},
   "source": [
    "*Discuss your results here*"
   ]
  },
  {
   "cell_type": "markdown",
   "metadata": {},
   "source": [
    "### 1.4 Graphical exploration, part 1\n",
    "\n",
    "Visualize the distribution of village enrollment rates **among poor households in treated villages**, before and after treatment. Specifically, for each village, calculate the average rate of enrollment of poor households in treated villages in 1997, then compute the average rate of enrollment of poor households in treated villages in 1998. Create two separate histograms showing the distribution of these average enrollments rates, one histogram for 1997 and one histogram for 1998. On each histogram, draw a vertical line that intersects the x-axis at the average value (across all households). Does there appear to be a difference? Is this difference statistically significant?"
   ]
  },
  {
   "cell_type": "code",
   "execution_count": null,
   "metadata": {
    "collapsed": true,
    "jupyter": {
     "outputs_hidden": true
    }
   },
   "outputs": [],
   "source": [
    "# Your code here"
   ]
  },
  {
   "cell_type": "markdown",
   "metadata": {},
   "source": [
    "*Discuss your results here*"
   ]
  },
  {
   "cell_type": "markdown",
   "metadata": {},
   "source": [
    "### 1.5 Graphical exploration, part 2\n",
    "\n",
    "Repeat the above exercise for poor households in **control villages**, before and after treatment. Do you observe a difference in enrollment in control villages between 1997 and 1998? How does what you observe here affect how you might approach measuring the impact of PROGRESA?"
   ]
  },
  {
   "cell_type": "code",
   "execution_count": null,
   "metadata": {
    "collapsed": true,
    "jupyter": {
     "outputs_hidden": true
    }
   },
   "outputs": [],
   "source": []
  },
  {
   "cell_type": "markdown",
   "metadata": {},
   "source": [
    "*Discuss your results here*"
   ]
  },
  {
   "cell_type": "markdown",
   "metadata": {},
   "source": [
    "## Part 2: Measuring Impact\n",
    "\n",
    "Our goal is to estimate the causal impact of the PROGRESA program on the social and economic outcomes of individuals in Mexico. We will focus on the impact of the program on school enrollment rates among the poor (those with poor=='pobre'), since only the poor were eligible to receive PROGRESA assistance, and since a primary objective of the program was to increase school enrollment.\n",
    "\n",
    "### 2.1 Simple differences: T-test\n",
    "\n",
    "Begin by estimating the impact of Progresa using \"simple differences.\" Restricting yourself to data from 1998 (after treatment), calculate the average enrollment rate among **poor** households in the Treatment villages and the average enrollment rate among **poor** households in the control villages. Use a t-test to determine if this difference is statistically significant. What do you conclude?"
   ]
  },
  {
   "cell_type": "code",
   "execution_count": 142,
   "metadata": {
    "collapsed": true,
    "jupyter": {
     "outputs_hidden": true
    }
   },
   "outputs": [],
   "source": [
    "# Your code here"
   ]
  },
  {
   "cell_type": "markdown",
   "metadata": {},
   "source": [
    "*Discuss your results here*"
   ]
  },
  {
   "cell_type": "markdown",
   "metadata": {},
   "source": [
    "### 2.2 Simple differences: Regression\n",
    "\n",
    "Estimate the effects of Progresa on enrollment using a regression model, by regressing the 1998 enrollment rates **of the poor** on treatment assignment. For now, do not include any other variables in your regression. Discuss the following:\n",
    "\n",
    "* Based on this model, how much did Progresa increase or decrease the likelihood of a child enrolling? Make sure you express you answer in a sentence that a person with no technical background could understand, using appropriate units.\n",
    "* How does your regression estimate compare to your t-test estimate from part 2.1?\n",
    "* Based on this regression model, can we reject the null hypothesis that the treatment effects are zero? \n",
    "* What is the counterfactual assumption underlying this regression?"
   ]
  },
  {
   "cell_type": "code",
   "execution_count": null,
   "metadata": {
    "collapsed": true,
    "jupyter": {
     "outputs_hidden": true
    }
   },
   "outputs": [],
   "source": [
    "# Your code here"
   ]
  },
  {
   "cell_type": "markdown",
   "metadata": {},
   "source": [
    "*Discuss your results here*"
   ]
  },
  {
   "cell_type": "markdown",
   "metadata": {},
   "source": [
    "### 2.3 Multiple Regression\n",
    "\n",
    "Estimate the above regression, but this time include a set of control variables. Include, for instance, age, distance to a secondary school, gender, education of household head, welfare index, indigenous, etc.\n",
    "\n",
    "* How do the controls affect the point estimate of treatment effect?\n",
    "* How do the controls affect the standard error on the treatment effect? \n",
    "* How do you interpret the differences (or similarities) between your estimates of 2.2 and 2.3?\n",
    "* Interpet the coefficient associated with the `dist_sec` variable. Is this evidence that the household's distance from a secondary school has a *causal* impact on educational attainment?"
   ]
  },
  {
   "cell_type": "code",
   "execution_count": null,
   "metadata": {
    "collapsed": true,
    "jupyter": {
     "outputs_hidden": true
    }
   },
   "outputs": [],
   "source": [
    "# Your code here"
   ]
  },
  {
   "cell_type": "markdown",
   "metadata": {},
   "source": [
    "*Discuss your results here*"
   ]
  },
  {
   "cell_type": "markdown",
   "metadata": {},
   "source": [
    "### 2.4 Multiple Regression Revisited\n",
    "\n",
    "For the same set of control variables that you used in 2.3, carry out the following alternative estimation procedure. \n",
    "\n",
    "* First, regress the 1998 enrollment of the poor on the control variables, **without including the treatment assignment.** \n",
    "* Second, use this model to obtain predicted values of the 1998 enrollment for each child in the sample used to estimate the model in step 1. \n",
    "* Third, compute a new value for each child, which is the difference between the actual 1998 enrollment and the predicted enrollment value from step 2. \n",
    "* Finally, regress the difference from step 3 on treatment assignment.\n",
    "\n",
    "Compare the point estimate and the standard error on treatment assignment that you obtained in step 4 to their analogues in 2.3. Explain the results."
   ]
  },
  {
   "cell_type": "code",
   "execution_count": null,
   "metadata": {},
   "outputs": [],
   "source": [
    "# Your code here"
   ]
  },
  {
   "cell_type": "markdown",
   "metadata": {},
   "source": [
    "*Discuss your results here*"
   ]
  },
  {
   "cell_type": "markdown",
   "metadata": {},
   "source": [
    "### 2.5 Difference-in-Difference, version 1 (tabular)\n",
    "\n",
    "Thus far, we have computed the effects of Progresa by estimating the difference in 1998 enrollment rates across villages. An alternative approach would be to compute the treatment effect using a difference-in-differences framework.\n",
    "\n",
    "Begin by estimating the average treatment effects of the program for poor households using data from 1997 and 1998. Specifically, calculate the difference (between 1997 and 1998) in enrollment rates among poor households in treated villages; then compute the difference (between 1997 and 1998) in enrollment rates among poor households in control villages. \n",
    "\n",
    "Display your results in a 2x2 table where the rows are Control/Treatment and the columns are 1997/1998. \n",
    "\n",
    "* What is your difference-in-difference estimate of the impact, and how does it compare to your earlier (simple difference) results?\n",
    "* What is the counterfactual assumption underlying this estimate? \n"
   ]
  },
  {
   "cell_type": "code",
   "execution_count": null,
   "metadata": {
    "collapsed": true,
    "jupyter": {
     "outputs_hidden": true
    }
   },
   "outputs": [],
   "source": [
    "# Your code here"
   ]
  },
  {
   "cell_type": "markdown",
   "metadata": {},
   "source": [
    "*Discuss your results here*"
   ]
  },
  {
   "cell_type": "markdown",
   "metadata": {},
   "source": [
    "### 2.6 Difference-in-Difference, version 2 (regression)\n",
    "\n",
    "Now use a regression specification to estimate the average treatment effects of the program in a difference-in-differences, for the poor households. Do this (i) first without including any control variables; and then (ii) do it a second time including at least 5 control variables. \n",
    "\n",
    "* What is your estimate (i) of the impact of Progresa? Be very specific in interpreting your coefficients and standard errors, and make sure to specify exactly what units you are measuring and estimating.\n",
    "* Does your estimate of the impact of Progresa from (i) change when you add control variables as in (ii)? How do you explain these changes, or the lack of changes on the `progresa` coefficient between (i) and (ii)?\n",
    "* How do the estimates from (i) and (ii) compare to the difference-in-difference estimates from 2.4 above? What accounts for these differences, if any exist?\n",
    "* What is the counterfactual assumption underlying regression (ii)? "
   ]
  },
  {
   "cell_type": "code",
   "execution_count": null,
   "metadata": {
    "collapsed": true,
    "jupyter": {
     "outputs_hidden": true
    }
   },
   "outputs": [],
   "source": [
    "# Your code here"
   ]
  },
  {
   "cell_type": "markdown",
   "metadata": {},
   "source": [
    "*Discuss your results here*"
   ]
  },
  {
   "cell_type": "markdown",
   "metadata": {},
   "source": [
    "### 2.7 Spillover effects\n",
    "\n",
    "Thus far, we have focused on the impact of PROGRESA on the school enrollment of poor households. Repeat your analysis in 2.5, instead focusing on (a) the impact of PROGRESA on the school enrollment of non-poor households, and (b) the impact ofo PROGRESA on *other outcomes* of poor households that might plausibly have been affected by the PROGRESA program.\n",
    "* Do you observe any impacts of PROGRESA on the school enrollment of the non-poor?\n",
    "* Regardless of whether you find evidence of spillovers to non-poor, describe one or two reasons why PROGRESA *might* have impacted non-poor households. Give concrete examples based on the context in which PROGRESA was implemented.\n",
    "* Do you observe any impacts of PROGRESA on other aspects of the welfare of poor households? "
   ]
  },
  {
   "cell_type": "code",
   "execution_count": null,
   "metadata": {
    "collapsed": true,
    "jupyter": {
     "outputs_hidden": true
    }
   },
   "outputs": [],
   "source": [
    "# Your code here"
   ]
  },
  {
   "cell_type": "markdown",
   "metadata": {},
   "source": [
    "*Discuss your results here*"
   ]
  },
  {
   "cell_type": "markdown",
   "metadata": {},
   "source": [
    "### 2.8 Summary\n",
    "\n",
    "* Based on all the analysis you have undertaken to date, do you believe that Progresa had a causal impact on the enrollment rates of poor households in Mexico? "
   ]
  },
  {
   "cell_type": "markdown",
   "metadata": {},
   "source": [
    "*Discuss your results here*"
   ]
  }
 ],
 "metadata": {
  "anaconda-cloud": {},
  "jupytext": {
   "formats": "ipynb,py:light"
  },
  "kernelspec": {
   "display_name": "Python 3 (ipykernel)",
   "language": "python",
   "name": "python3"
  },
  "language_info": {
   "codemirror_mode": {
    "name": "ipython",
    "version": 3
   },
   "file_extension": ".py",
   "mimetype": "text/x-python",
   "name": "python",
   "nbconvert_exporter": "python",
   "pygments_lexer": "ipython3",
   "version": "3.12.1"
  }
 },
 "nbformat": 4,
 "nbformat_minor": 4
}
