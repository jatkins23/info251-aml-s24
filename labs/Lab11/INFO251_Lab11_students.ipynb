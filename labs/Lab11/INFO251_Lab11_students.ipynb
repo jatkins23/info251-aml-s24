{
  "cells": [
    {
      "cell_type": "markdown",
      "metadata": {
        "id": "09-VRHVuqL5Z"
      },
      "source": [
        "# Lab 11 - Deep Learning\n",
        "- **Author:** Suraj R. Nair, based on previous material by Emily Aiken.\n",
        "- **Date:** April 3, 2024\n",
        "- **Course:** INFO 251: Applied machine learning"
      ]
    },
    {
      "cell_type": "markdown",
      "metadata": {
        "id": "tYGkGdF2qL5b"
      },
      "source": [
        "## Topics:\n",
        "1. Convolutional neural networks"
      ]
    },
    {
      "cell_type": "markdown",
      "metadata": {
        "id": "GKQrkL3mqL5b"
      },
      "source": [
        "## Learning Goals:\n",
        "At the end of this lab, you will...\n",
        "- Understand the structure of convolutional neural networks\n",
        "- Know the key hyperparameters of convolutional neural networks"
      ]
    },
    {
      "cell_type": "markdown",
      "metadata": {
        "id": "CG4DhuF5qL5c"
      },
      "source": [
        "## Resources:\n",
        "- [Keras dropout layer](https://keras.io/api/layers/regularization_layers/dropout/)\n",
        "- [Keras convolutional layers](https://keras.io/api/layers/convolution_layers/)\n",
        "- [Keras pooling layers](https://keras.io/api/layers/pooling_layers/)"
      ]
    },
    {
      "cell_type": "code",
      "execution_count": null,
      "metadata": {
        "id": "HLO55x5dqL5c"
      },
      "outputs": [],
      "source": [
        "import warnings\n",
        "warnings.filterwarnings(\"ignore\")\n",
        "\n",
        "import numpy as np\n",
        "import pandas as pd\n",
        "import matplotlib.pyplot as plt\n",
        "# import seaborn as sns\n",
        "import random\n",
        "\n",
        "from sklearn import datasets\n",
        "from sklearn.model_selection import train_test_split\n",
        "from sklearn.metrics import r2_score, roc_auc_score, accuracy_score\n",
        "\n",
        "from keras.models import Sequential\n",
        "from keras.layers import Dense, Dropout, Conv2D, MaxPooling2D, Flatten\n",
        "from keras.regularizers import l1, l2\n",
        "import tensorflow as tf"
      ]
    },
    {
      "cell_type": "markdown",
      "metadata": {
        "id": "brsxtAMIqL5c"
      },
      "source": [
        "## Convolutional Neural Networks\n",
        "#### Load MNIST data\n",
        "- Notice: All images are the same size\n",
        "- Notice: Images are in greyscale --> only one channel for CNN"
      ]
    },
    {
      "cell_type": "code",
      "execution_count": null,
      "metadata": {
        "id": "8EIY4pYMqL5d"
      },
      "outputs": [],
      "source": [
        "# Load data\n",
        "digits = datasets.load_digits()"
      ]
    },
    {
      "cell_type": "code",
      "execution_count": null,
      "metadata": {
        "colab": {
          "base_uri": "https://localhost:8080/",
          "height": 306
        },
        "id": "-NhH3-TfqL5d",
        "outputId": "2cf5eaf5-2e16-4196-e242-607521790114"
      },
      "outputs": [
        {
          "data": {
            "image/png": "[encoded data removed]",
            "text/plain": [
              "<Figure size 1000x300 with 10 Axes>"
            ]
          },
          "metadata": {},
          "output_type": "display_data"
        }
      ],
      "source": [
        "# Show some of the images\n",
        "fig, ax = plt.subplots(2, 5, figsize=(10, 3))\n",
        "ax = ax.flatten()\n",
        "for a, image, label in zip(ax, digits.images, digits.target):\n",
        "    a.set_axis_off()\n",
        "    a.imshow(image, cmap=plt.cm.gray_r, interpolation=\"nearest\")\n",
        "    a.set_title(\"Label: %i\" % label)\n",
        "plt.tight_layout()\n",
        "plt.show()"
      ]
    },
    {
      "cell_type": "code",
      "execution_count": null,
      "metadata": {
        "colab": {
          "base_uri": "https://localhost:8080/",
          "height": 306
        },
        "id": "z3w5e5N0qL5e",
        "outputId": "096ec800-0ed3-4fc5-97a1-7e0816d5ed1f"
      },
      "outputs": [
        {
          "data": {
            "image/png": "[encoded data removed]",
            "text/plain": [
              "<Figure size 1000x300 with 10 Axes>"
            ]
          },
          "metadata": {},
          "output_type": "display_data"
        }
      ],
      "source": [
        "# Restrict to two classes -- we'll just look for the difference between 1 and 0\n",
        "twos_threes = np.where((digits.target == 0) | (digits.target == 1))\n",
        "x = digits.images[twos_threes]\n",
        "y = digits.target[twos_threes]\n",
        "\n",
        "fig, ax = plt.subplots(2, 5, figsize=(10, 3))\n",
        "ax = ax.flatten()\n",
        "for a, image, label in zip(ax, x, y):\n",
        "    a.set_axis_off()\n",
        "    a.imshow(image, cmap=plt.cm.gray_r, interpolation=\"nearest\")\n",
        "    a.set_title(\"Label: %i\" % label)\n",
        "plt.tight_layout()\n",
        "plt.show()"
      ]
    },
    {
      "cell_type": "code",
      "execution_count": null,
      "metadata": {
        "id": "N6P59O1RqL5e"
      },
      "outputs": [],
      "source": [
        "# Train-test split\n",
        "x_train, x_test, y_train, y_test = train_test_split(x, y, shuffle=True, test_size=0.25, random_state=0)"
      ]
    },
    {
      "cell_type": "code",
      "execution_count": null,
      "metadata": {
        "colab": {
          "base_uri": "https://localhost:8080/"
        },
        "id": "rPm7eQDfOo3_",
        "outputId": "fed0002e-9d8e-47c1-f7f9-3bd752d7fb7b"
      },
      "outputs": [
        {
          "data": {
            "text/plain": [
              "(270, 8, 8)"
            ]
          },
          "execution_count": 8,
          "metadata": {},
          "output_type": "execute_result"
        }
      ],
      "source": [
        "x_train.shape"
      ]
    },
    {
      "cell_type": "markdown",
      "metadata": {
        "id": "4feLmQZIqL5e"
      },
      "source": [
        "#### Preprocessing"
      ]
    },
    {
      "cell_type": "code",
      "execution_count": null,
      "metadata": {
        "id": "ejYKs9mpqL5f"
      },
      "outputs": [],
      "source": [
        "# Standardization\n",
        "mean_pixel = np.mean(x_train, axis=0)\n",
        "std_pixel = np.std(x_train, axis=0) + 0.000000001\n",
        "x_train = (x_train - mean_pixel)/std_pixel\n",
        "x_test = (x_test - mean_pixel)/std_pixel"
      ]
    },
    {
      "cell_type": "code",
      "execution_count": null,
      "metadata": {
        "id": "EA9Y1fqZqL5f"
      },
      "outputs": [],
      "source": [
        "# Reshape train data\n",
        "x_train = np.expand_dims(x_train, axis=-1)\n",
        "x_test = np.expand_dims(x_test, axis=-1)"
      ]
    },
    {
      "cell_type": "markdown",
      "metadata": {
        "id": "b1yeEDc7qL5f"
      },
      "source": [
        "#### CNN: Single Conv Layer"
      ]
    },
    {
      "cell_type": "code",
      "execution_count": null,
      "metadata": {
        "id": "1zw4ySDRqL5g"
      },
      "outputs": [],
      "source": [
        "\n",
        "model_base = Sequential()\n",
        "model_base.add(Conv2D(3, kernel_size=(3, 3), strides=1,\n",
        "                    activation='relu', input_shape=x_train.shape[1:]))\n",
        "model_base.add(Flatten())\n",
        "model_base.add(Dense(1, activation='sigmoid'))\n",
        "model_base.compile(loss='binary_crossentropy', optimizer='adam', metrics=['accuracy'],\n",
        "                   )"
      ]
    },
    {
      "cell_type": "code",
      "execution_count": null,
      "metadata": {
        "colab": {
          "base_uri": "https://localhost:8080/"
        },
        "id": "Y4RmWwRLqL5g",
        "outputId": "6e717a5c-d850-4b22-bab2-a5625bd2534a"
      },
      "outputs": [
        {
          "name": "stdout",
          "output_type": "stream",
          "text": [
            "Epoch 1/10\n",
            "17/17 [==============================] - 0s 5ms/step - loss: 0.1253 - accuracy: 0.9963\n",
            "Epoch 2/10\n",
            "17/17 [==============================] - 0s 6ms/step - loss: 0.1056 - accuracy: 0.9963\n",
            "Epoch 3/10\n",
            "17/17 [==============================] - 0s 5ms/step - loss: 0.0903 - accuracy: 0.9963\n",
            "Epoch 4/10\n",
            "17/17 [==============================] - 0s 6ms/step - loss: 0.0786 - accuracy: 0.9963\n",
            "Epoch 5/10\n",
            "17/17 [==============================] - 0s 6ms/step - loss: 0.0690 - accuracy: 0.9963\n",
            "Epoch 6/10\n",
            "17/17 [==============================] - 0s 5ms/step - loss: 0.0615 - accuracy: 0.9963\n",
            "Epoch 7/10\n",
            "17/17 [==============================] - 0s 4ms/step - loss: 0.0551 - accuracy: 0.9963\n",
            "Epoch 8/10\n",
            "17/17 [==============================] - 0s 8ms/step - loss: 0.0500 - accuracy: 0.9963\n",
            "Epoch 9/10\n",
            "17/17 [==============================] - 0s 4ms/step - loss: 0.0456 - accuracy: 0.9963\n",
            "Epoch 10/10\n",
            "17/17 [==============================] - 0s 5ms/step - loss: 0.0418 - accuracy: 0.9963\n",
            "9/9 [==============================] - 0s 3ms/step\n",
            "3/3 [==============================] - 0s 3ms/step\n"
          ]
        }
      ],
      "source": [
        "history = model_base.fit(x_train, y_train, epochs=10, batch_size=16, verbose=1,\n",
        "                         validation_data = ())\n",
        "yhat_train = model_base.predict(x_train)\n",
        "yhat_test = model_base.predict(x_test)"
      ]
    },
    {
      "cell_type": "code",
      "execution_count": null,
      "metadata": {
        "colab": {
          "base_uri": "https://localhost:8080/"
        },
        "id": "JsY2wW7MP417",
        "outputId": "83785127-fccb-479b-f72b-dbeb245d078f"
      },
      "outputs": [
        {
          "data": {
            "text/plain": [
              "{'loss': [0.1253078281879425,\n",
              "  0.10564205795526505,\n",
              "  0.0903359204530716,\n",
              "  0.07856947928667068,\n",
              "  0.06898506730794907,\n",
              "  0.06154152378439903,\n",
              "  0.055096760392189026,\n",
              "  0.049994610249996185,\n",
              "  0.045600783079862595,\n",
              "  0.04176948964595795],\n",
              " 'accuracy': [0.9962962865829468,\n",
              "  0.9962962865829468,\n",
              "  0.9962962865829468,\n",
              "  0.9962962865829468,\n",
              "  0.9962962865829468,\n",
              "  0.9962962865829468,\n",
              "  0.9962962865829468,\n",
              "  0.9962962865829468,\n",
              "  0.9962962865829468,\n",
              "  0.9962962865829468]}"
            ]
          },
          "execution_count": 15,
          "metadata": {},
          "output_type": "execute_result"
        }
      ],
      "source": [
        "history.history"
      ]
    },
    {
      "cell_type": "code",
      "execution_count": null,
      "metadata": {
        "colab": {
          "base_uri": "https://localhost:8080/"
        },
        "id": "2T_uSJ8cqL5g",
        "outputId": "eae63b41-450a-43e4-a336-db51d5d91fb1"
      },
      "outputs": [
        {
          "name": "stdout",
          "output_type": "stream",
          "text": [
            "Accuracy score on training set: 0.9963\n",
            "Accuracy score on test set: 1.0000\n",
            "AUC score on training set: 0.9999\n",
            "AUC score on test set: 1.0000\n"
          ]
        }
      ],
      "source": [
        "yhat_train_binary = yhat_train > 0.5\n",
        "yhat_test_binary = yhat_test > 0.5\n",
        "\n",
        "print('Accuracy score on training set: %.4f' % accuracy_score(y_train, yhat_train_binary))\n",
        "print('Accuracy score on test set: %.4f' % accuracy_score(y_test, yhat_test_binary))\n",
        "print('AUC score on training set: %.4f' % roc_auc_score(y_train, yhat_train))\n",
        "print('AUC score on test set: %.4f' % roc_auc_score(y_test, yhat_test))"
      ]
    },
    {
      "cell_type": "code",
      "execution_count": null,
      "metadata": {
        "colab": {
          "base_uri": "https://localhost:8080/"
        },
        "id": "9cKP0RbIqL5h",
        "outputId": "05e21511-b713-450c-b987-70b295513fd4"
      },
      "outputs": [
        {
          "name": "stdout",
          "output_type": "stream",
          "text": [
            "Model: \"sequential\"\n",
            "_________________________________________________________________\n",
            " Layer (type)                Output Shape              Param #   \n",
            "=================================================================\n",
            " conv2d (Conv2D)             (None, 6, 6, 3)           30        \n",
            "                                                                 \n",
            " flatten (Flatten)           (None, 108)               0         \n",
            "                                                                 \n",
            " dense (Dense)               (None, 1)                 109       \n",
            "                                                                 \n",
            "=================================================================\n",
            "Total params: 139 (556.00 Byte)\n",
            "Trainable params: 139 (556.00 Byte)\n",
            "Non-trainable params: 0 (0.00 Byte)\n",
            "_________________________________________________________________\n"
          ]
        }
      ],
      "source": [
        "model_base.summary()"
      ]
    },
    {
      "cell_type": "code",
      "execution_count": null,
      "metadata": {
        "colab": {
          "base_uri": "https://localhost:8080/",
          "height": 447
        },
        "id": "AkZYjH0jqL5h",
        "outputId": "48b44a73-ec4e-48cc-a337-35bcfd64613d"
      },
      "outputs": [
        {
          "data": {
            "text/plain": [
              "<Axes: >"
            ]
          },
          "execution_count": 16,
          "metadata": {},
          "output_type": "execute_result"
        },
        {
          "data": {
            "image/png": "[encoded data removed]",
            "text/plain": [
              "<Figure size 640x480 with 1 Axes>"
            ]
          },
          "metadata": {},
          "output_type": "display_data"
        }
      ],
      "source": [
        "### Plotting epoch-wise summary\n",
        "\n",
        "pd.DataFrame(history.history).plot()"
      ]
    },
    {
      "cell_type": "markdown",
      "metadata": {
        "id": "neFHutnoqL5h"
      },
      "source": [
        "#### CNN: More Layers + Pooling"
      ]
    },
    {
      "cell_type": "code",
      "execution_count": null,
      "metadata": {
        "id": "XreWDfBsqL5h"
      },
      "outputs": [],
      "source": [
        "# TODO: Tune the above CNN. Consider changing the convolutional filters, adding dropout layers, changing the\n",
        "# activation functions, or changing the optimization strategy. Try to exceed 0.98 AUC on the test set."
      ]
    },
    {
      "cell_type": "code",
      "execution_count": null,
      "metadata": {
        "id": "SSnaO_KjqL5h"
      },
      "outputs": [],
      "source": [
        "model = Sequential()\n",
        "model.add(Conv2D(filters=24, kernel_size=(3, 3), strides=1, activation='relu', input_shape=x_train.shape[1:]))\n",
        "model.add(Conv2D(filters=12, kernel_size=(3, 3), strides=1, activation='relu', input_shape=x_train.shape[1:]))\n",
        "model.add(MaxPooling2D((2, 2)))\n",
        "model.add(Dropout(0.2))\n",
        "model.add(Flatten())\n",
        "model.add(Dense(12, activation='relu'))\n",
        "model.add(Dense(5, activation='relu'))\n",
        "model.add(Dense(1, activation='sigmoid'))\n",
        "model.compile(loss='binary_crossentropy', optimizer='adam', metrics=['accuracy'])"
      ]
    },
    {
      "cell_type": "code",
      "execution_count": null,
      "metadata": {
        "colab": {
          "base_uri": "https://localhost:8080/"
        },
        "id": "wPQbxgV-qL5h",
        "outputId": "b9cbf469-b58c-4d4e-8648-9f61488b896f"
      },
      "outputs": [
        {
          "name": "stdout",
          "output_type": "stream",
          "text": [
            "Model: \"sequential_1\"\n",
            "_________________________________________________________________\n",
            " Layer (type)                Output Shape              Param #   \n",
            "=================================================================\n",
            " conv2d_1 (Conv2D)           (None, 6, 6, 24)          240       \n",
            "                                                                 \n",
            " conv2d_2 (Conv2D)           (None, 4, 4, 12)          2604      \n",
            "                                                                 \n",
            " max_pooling2d (MaxPooling2  (None, 2, 2, 12)          0         \n",
            " D)                                                              \n",
            "                                                                 \n",
            " dropout (Dropout)           (None, 2, 2, 12)          0         \n",
            "                                                                 \n",
            " flatten_1 (Flatten)         (None, 48)                0         \n",
            "                                                                 \n",
            " dense_1 (Dense)             (None, 12)                588       \n",
            "                                                                 \n",
            " dense_2 (Dense)             (None, 5)                 65        \n",
            "                                                                 \n",
            " dense_3 (Dense)             (None, 1)                 6         \n",
            "                                                                 \n",
            "=================================================================\n",
            "Total params: 3503 (13.68 KB)\n",
            "Trainable params: 3503 (13.68 KB)\n",
            "Non-trainable params: 0 (0.00 Byte)\n",
            "_________________________________________________________________\n"
          ]
        }
      ],
      "source": [
        "model.summary()"
      ]
    },
    {
      "cell_type": "code",
      "execution_count": null,
      "metadata": {
        "colab": {
          "base_uri": "https://localhost:8080/"
        },
        "id": "srcnHrFfqL5i",
        "outputId": "30fdc877-6a13-4957-9dbe-b033aad1282f"
      },
      "outputs": [
        {
          "name": "stdout",
          "output_type": "stream",
          "text": [
            "9/9 [==============================] - 0s 3ms/step\n",
            "3/3 [==============================] - 0s 4ms/step\n"
          ]
        }
      ],
      "source": [
        "history1 = model.fit(x_train, y_train, epochs=30, batch_size=32, verbose=0)\n",
        "yhat_train1 = model.predict(x_train)\n",
        "yhat_test1 = model.predict(x_test)"
      ]
    },
    {
      "cell_type": "code",
      "execution_count": null,
      "metadata": {
        "colab": {
          "base_uri": "https://localhost:8080/"
        },
        "id": "lkenL553qL5i",
        "outputId": "a89ee630-b2e5-4fcf-a671-d9d5024a86b2"
      },
      "outputs": [
        {
          "name": "stdout",
          "output_type": "stream",
          "text": [
            "Accuracy score on training set: 1.0000\n",
            "Accuracy score on test set: 0.9889\n",
            "AUC score on training set: 1.0000\n",
            "AUC score on test set: 0.9744\n"
          ]
        }
      ],
      "source": [
        "yhat_train_binary1 = yhat_train1 > 0.5\n",
        "yhat_test_binary1 = yhat_test1 > 0.5\n",
        "\n",
        "print('Accuracy score on training set: %.4f' % accuracy_score(y_train, yhat_train_binary1))\n",
        "print('Accuracy score on test set: %.4f' % accuracy_score(y_test, yhat_test_binary1))\n",
        "print('AUC score on training set: %.4f' % roc_auc_score(y_train, yhat_train1))\n",
        "print('AUC score on test set: %.4f' % roc_auc_score(y_test, yhat_test1))"
      ]
    },
    {
      "cell_type": "code",
      "execution_count": null,
      "metadata": {
        "id": "OMbOjgD9qL5i"
      },
      "outputs": [],
      "source": [
        "### Under the hood"
      ]
    },
    {
      "cell_type": "code",
      "execution_count": null,
      "metadata": {
        "colab": {
          "base_uri": "https://localhost:8080/"
        },
        "id": "Q2I08OgKS278",
        "outputId": "7d9d6342-1c06-4c09-865b-d01fe630ebba"
      },
      "outputs": [
        {
          "data": {
            "text/plain": [
              "[<keras.src.layers.convolutional.conv2d.Conv2D at 0x7da81ff4b070>,\n",
              " <keras.src.layers.convolutional.conv2d.Conv2D at 0x7da81ff4b730>,\n",
              " <keras.src.layers.pooling.max_pooling2d.MaxPooling2D at 0x7da81f698970>,\n",
              " <keras.src.layers.regularization.dropout.Dropout at 0x7da81f699ab0>,\n",
              " <keras.src.layers.reshaping.flatten.Flatten at 0x7da81f699c60>,\n",
              " <keras.src.layers.core.dense.Dense at 0x7da81f699540>,\n",
              " <keras.src.layers.core.dense.Dense at 0x7da81f69af20>,\n",
              " <keras.src.layers.core.dense.Dense at 0x7da81f69ac80>]"
            ]
          },
          "execution_count": 23,
          "metadata": {},
          "output_type": "execute_result"
        }
      ],
      "source": [
        "model.layers"
      ]
    },
    {
      "cell_type": "code",
      "execution_count": null,
      "metadata": {
        "id": "G2zQ2Y52qL5i"
      },
      "outputs": [],
      "source": [
        "weights, biases = model.layers[0].get_weights()"
      ]
    },
    {
      "cell_type": "code",
      "execution_count": null,
      "metadata": {
        "colab": {
          "base_uri": "https://localhost:8080/"
        },
        "id": "6x_FUyZcqL5i",
        "outputId": "7b7a6e18-a9fd-47f7-f0cf-7a629157a993"
      },
      "outputs": [
        {
          "data": {
            "text/plain": [
              "(3, 3, 1, 24)"
            ]
          },
          "execution_count": 25,
          "metadata": {},
          "output_type": "execute_result"
        }
      ],
      "source": [
        "weights.shape"
      ]
    },
    {
      "cell_type": "code",
      "execution_count": null,
      "metadata": {
        "colab": {
          "base_uri": "https://localhost:8080/",
          "height": 452
        },
        "id": "hsy7h2LXqfmT",
        "outputId": "547b7911-3a1f-40e7-f4c9-3ac2723c4920"
      },
      "outputs": [
        {
          "data": {
            "text/plain": [
              "<matplotlib.image.AxesImage at 0x7da81f081b10>"
            ]
          },
          "execution_count": 29,
          "metadata": {},
          "output_type": "execute_result"
        },
        {
          "data": {
            "image/png": "[encoded data removed]",
            "text/plain": [
              "<Figure size 640x480 with 1 Axes>"
            ]
          },
          "metadata": {},
          "output_type": "display_data"
        }
      ],
      "source": [
        "plt.imshow(weights[:, :, :, 0], cmap = 'gray')"
      ]
    }
  ],
  "metadata": {
    "colab": {
      "provenance": []
    },
    "kernelspec": {
      "display_name": "tf2",
      "language": "python",
      "name": "tf2"
    },
    "language_info": {
      "codemirror_mode": {
        "name": "ipython",
        "version": 3
      },
      "file_extension": ".py",
      "mimetype": "text/x-python",
      "name": "python",
      "nbconvert_exporter": "python",
      "pygments_lexer": "ipython3",
      "version": "3.12.2"
    }
  },
  "nbformat": 4,
  "nbformat_minor": 0
}
